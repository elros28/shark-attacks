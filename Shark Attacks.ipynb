{
 "cells": [
  {
   "cell_type": "markdown",
   "metadata": {},
   "source": [
    "# Loading the data"
   ]
  },
  {
   "cell_type": "code",
   "execution_count": null,
   "metadata": {},
   "outputs": [],
   "source": [
    "import pandas as pd\n",
    "import numpy as np\n",
    "from pandas_profiling import ProfileReport"
   ]
  },
  {
   "cell_type": "code",
   "execution_count": null,
   "metadata": {},
   "outputs": [],
   "source": [
    "# Load the dataset\n",
    "attacks = pd.read_csv('data/attacks.csv', encoding='latin-1')\n",
    "pd.options.display.max_rows = 99\n",
    "pd.options.display.max_columns = 99"
   ]
  },
  {
   "cell_type": "code",
   "execution_count": null,
   "metadata": {},
   "outputs": [],
   "source": [
    "attacks.head(10)"
   ]
  },
  {
   "cell_type": "markdown",
   "metadata": {},
   "source": [
    "# Filtering"
   ]
  },
  {
   "cell_type": "markdown",
   "metadata": {},
   "source": [
    "## Dropping columns with no use & NaN rows"
   ]
  },
  {
   "cell_type": "code",
   "execution_count": null,
   "metadata": {},
   "outputs": [],
   "source": [
    "attacks.drop(columns=['Case Number','Location','Name','Injury','Investigator or Source','pdf','href formula',\n",
    "                      'href','original order','Unnamed: 22', 'Unnamed: 23','Case Number.1',\n",
    "                      'Case Number.2'], inplace=True)\n",
    "attacks.dropna(axis='index', how='all', inplace=True)"
   ]
  },
  {
   "cell_type": "markdown",
   "metadata": {},
   "source": [
    "## Fixing column names"
   ]
  },
  {
   "cell_type": "code",
   "execution_count": null,
   "metadata": {},
   "outputs": [],
   "source": [
    "attacks.columns"
   ]
  },
  {
   "cell_type": "code",
   "execution_count": null,
   "metadata": {},
   "outputs": [],
   "source": [
    "attacks.columns = ['Date', 'Year', 'Type', 'Country', 'Area', 'Activity',\n",
    "                   'Sex', 'Age', 'Fatal', 'Time', 'Description']"
   ]
  },
  {
   "cell_type": "markdown",
   "metadata": {},
   "source": [
    "# Cleaning fields"
   ]
  },
  {
   "cell_type": "markdown",
   "metadata": {},
   "source": [
    "## Fatal"
   ]
  },
  {
   "cell_type": "code",
   "execution_count": null,
   "metadata": {},
   "outputs": [],
   "source": [
    "attacks['Fatal'].value_counts()"
   ]
  },
  {
   "cell_type": "code",
   "execution_count": null,
   "metadata": {},
   "outputs": [],
   "source": [
    "attacks['Fatal'] = attacks['Fatal'].str.strip()\n",
    "attacks['Fatal'] = attacks['Fatal'].str.upper()\n",
    "attacks['Fatal'].replace(['M','2017'], np.nan, inplace=True)"
   ]
  },
  {
   "cell_type": "code",
   "execution_count": null,
   "metadata": {},
   "outputs": [],
   "source": [
    "attacks['Fatal'].replace(['UNKNOWN'], np.nan, inplace=True)\n",
    "attacks['Fatal'].replace(['N'], 0, inplace=True)\n",
    "attacks['Fatal'].replace(['Y'], 1, inplace=True)\n",
    "attacks['Fatal'].value_counts()"
   ]
  },
  {
   "cell_type": "markdown",
   "metadata": {},
   "source": [
    "## Type"
   ]
  },
  {
   "cell_type": "code",
   "execution_count": null,
   "metadata": {},
   "outputs": [],
   "source": [
    "attacks['Type'].value_counts()"
   ]
  },
  {
   "cell_type": "code",
   "execution_count": null,
   "metadata": {},
   "outputs": [],
   "source": [
    "attacks['Type'] = attacks['Type'].str.upper()\n",
    "attacks['Type'].replace('BOAT\\w*','BOAT',regex=True,inplace=True)\n",
    "attacks['Type'].replace('QUESTIONABLE','INVALID',inplace=True)\n",
    "attacks['Type'].value_counts().head(10)\n",
    "attacks['Type'].value_counts()"
   ]
  },
  {
   "cell_type": "markdown",
   "metadata": {},
   "source": [
    "## Sex"
   ]
  },
  {
   "cell_type": "code",
   "execution_count": null,
   "metadata": {},
   "outputs": [],
   "source": [
    "attacks['Sex'].value_counts()"
   ]
  },
  {
   "cell_type": "code",
   "execution_count": null,
   "metadata": {},
   "outputs": [],
   "source": [
    "attacks['Sex'] = attacks['Sex'].str.strip()\n",
    "attacks['Sex'].replace(['N','.','lli'],np.nan,inplace=True)\n",
    "attacks['Sex'].value_counts()"
   ]
  },
  {
   "cell_type": "markdown",
   "metadata": {},
   "source": [
    "## Age"
   ]
  },
  {
   "cell_type": "code",
   "execution_count": null,
   "metadata": {},
   "outputs": [],
   "source": [
    "attacks['Age'].value_counts().head(20)"
   ]
  },
  {
   "cell_type": "code",
   "execution_count": null,
   "metadata": {},
   "outputs": [],
   "source": [
    "attacks['Age'].replace(to_replace=['Teen','teen'],value='16',inplace=True)\n",
    "attacks['Age'].replace(to_replace='30s',value='35',inplace=True)\n",
    "attacks['Age'].replace(to_replace='20s',value='25',inplace=True)\n",
    "attacks['Age'].value_counts().head(20)"
   ]
  },
  {
   "cell_type": "markdown",
   "metadata": {},
   "source": [
    "## Activity"
   ]
  },
  {
   "cell_type": "code",
   "execution_count": null,
   "metadata": {},
   "outputs": [],
   "source": [
    "attacks['Activity'] = attacks['Activity'].str.strip()\n",
    "attacks['Activity'] = attacks['Activity'].str.upper()\n",
    "attacks['Activity'].value_counts().head(20)"
   ]
  },
  {
   "cell_type": "code",
   "execution_count": null,
   "metadata": {},
   "outputs": [],
   "source": [
    "attacks['Activity'].replace(['STANDING','WADING','WALKING','PLAYING','SPLASHING'],'BATHING',inplace=True)\n",
    "attacks['Activity'].replace(['BODY SURFING','BOOGIE BOARDING','BODY-BOARDING'],'BODY BOARDING',inplace=True)\n",
    "attacks['Activity'].replace('.*SPEARFISHING.*','SPEARFISHING',regex=True,inplace=True)\n",
    "attacks['Activity'].replace('.*DIVING.*','DIVING',regex=True,inplace=True)\n",
    "attacks['Activity'].replace(['.*SURFING','KITE BOARDING','.*SKIING'],'SURFING',inplace=True)\n",
    "attacks['Activity'].replace(['.*KAYAK.*','.*BOAT.*','CANOEING','ROWING','SAILING','FISHING FOR MACKEREL'],'ON BOAT',regex=True,inplace=True)\n",
    "attacks['Activity'].replace(['TREADING WATER','FLOATING ON HIS BACK'],'FLOATING',inplace=True)\n",
    "attacks['Activity'].replace(['.*OVERBOARD.*','JUMPED INTO THE WATER'],'FELL INTO THE WATER',regex=True,inplace=True)\n",
    "attacks['Activity'].replace('FREEDOM SWIMMING','SWIMMING',inplace=True)\n",
    "attacks['Activity'].replace('SURF FISHING','WADE FISHING',inplace=True)\n",
    "attacks['Activity'].replace(['SITTING ON SURFBOARD','SURFING (SITTING ON HIS BOARD)','PADDLE BOARDING','STAND-UP PADDLEBOARDING','PADDLING ON SURFBOARD'],'ON SURFBOARD',inplace=True)\n",
    "attacks['Activity'].replace(['.{,30} SHARK.','SHARK RELATED ACTIVITY.*'],'SHARK RELATED ACTIVITY',regex=True,inplace=True)\n",
    "attacks['Activity'].value_counts().head(30)"
   ]
  },
  {
   "cell_type": "markdown",
   "metadata": {},
   "source": [
    "## Description/Species"
   ]
  },
  {
   "cell_type": "code",
   "execution_count": null,
   "metadata": {},
   "outputs": [],
   "source": [
    "attacks['Description'] = attacks['Description'].str.upper()\n",
    "attacks['Description'].replace(['.*UNCONFIRMED.*','.* NOT CONFIRMED.*',\n",
    "                                '.*QUESTIONABLE.*', '.*FOOT SHARK.*',\n",
    "                                '.*SMALL SHARK.*', '.*FROM SHARK.*',\n",
    "                                '.*FEMALE SHARK.*', '.*LARGE SHARK.*',\n",
    "                                '.*BUT SHARK.*', '.*JUVENILE SHARK.*',\n",
    "                                '.*THE SHARK.*','.*TWO SHARK.*',\n",
    "                                '.*ANOTHER SHARK.*','.*KG SHARK'],\n",
    "                               np.nan,regex=True,inplace=True)"
   ]
  },
  {
   "cell_type": "code",
   "execution_count": null,
   "metadata": {},
   "outputs": [],
   "source": [
    "attacks['Species'] = attacks[attacks['Description'].notnull()]['Description'].str.findall('\\w{3,} SHARK')\n",
    "attacks['Species'] = attacks['Species'].apply(lambda x : ' OR '.join(x) if x == x else x)"
   ]
  },
  {
   "cell_type": "code",
   "execution_count": null,
   "metadata": {},
   "outputs": [],
   "source": [
    "attacks.loc[attacks['Species'] == attacks['Species'], 'Species']\n",
    "attacks.loc[attacks['Species'].notnull() & attacks['Species'].str.contains(' OR '),'Species'] = np.nan\n",
    "attacks.loc[attacks['Species'] == '','Species'] = np.nan"
   ]
  },
  {
   "cell_type": "code",
   "execution_count": null,
   "metadata": {},
   "outputs": [],
   "source": [
    "attacks.drop(columns=['Description'], inplace=True)\n",
    "attacks['Species'].value_counts().head(40)"
   ]
  },
  {
   "cell_type": "markdown",
   "metadata": {},
   "source": [
    "## Year"
   ]
  },
  {
   "cell_type": "code",
   "execution_count": null,
   "metadata": {},
   "outputs": [],
   "source": [
    "attacks[attacks['Year'].notnull()]['Year'].value_counts().head(10)"
   ]
  },
  {
   "cell_type": "code",
   "execution_count": null,
   "metadata": {},
   "outputs": [],
   "source": [
    "attacks['Year'].replace(0,np.nan,inplace=True)\n",
    "attacks['Year'] = pd.to_numeric(attacks['Year'], errors='coerce', downcast='integer')\n",
    "attacks['Year'].value_counts().head(10)"
   ]
  },
  {
   "cell_type": "markdown",
   "metadata": {},
   "source": [
    "## Country"
   ]
  },
  {
   "cell_type": "code",
   "execution_count": null,
   "metadata": {},
   "outputs": [],
   "source": [
    "attacks['Country'].value_counts().head(20)"
   ]
  },
  {
   "cell_type": "code",
   "execution_count": null,
   "metadata": {},
   "outputs": [],
   "source": [
    "attacks['Country'] = attacks['Country'].str.strip()\n",
    "attacks['Country'] = attacks['Country'].str.upper()\n",
    "attacks['Country'].replace(to_replace=['.*OCEAN','.* SEA'],value=np.nan,regex=True,inplace=True)\n",
    "attacks['Country'].replace(['BETWEEN PORTUGAL & INDIA','IRAN / IRAQ','EGYPT / ISRAEL','RED SEA?'],np.nan,inplace=True)\n",
    "attacks['Country'].replace('EQUATORIAL GUINEA / CAMEROON','EQUATORIAL GUINEA',inplace=True)\n",
    "attacks['Country'].replace('CEYLON (SRI LANKA)','SRI LANKA',inplace=True)\n",
    "attacks['Country'].replace('UNITED ARAB EMIRATES (UAE)','UNITED ARAB EMIRATES',inplace=True)\n",
    "attacks['Country'].value_counts().head(20)"
   ]
  },
  {
   "cell_type": "markdown",
   "metadata": {},
   "source": [
    "# Adding temperature by country"
   ]
  },
  {
   "cell_type": "markdown",
   "metadata": {},
   "source": [
    "## Add new dataset with temperatures by country"
   ]
  },
  {
   "cell_type": "code",
   "execution_count": null,
   "metadata": {},
   "outputs": [],
   "source": [
    "#dataset download: https://www.kaggle.com/sudalairajkumar/daily-temperature-of-major-cities\n",
    "temperatures = pd.read_csv('data/city_temperature.csv',\n",
    "                           dtype={'Region': str, 'Country': str, 'State': str, 'City': str, 'Year': np.int32, 'Month': np.int32, 'Day': np.int32, 'AvgTemperature': np.float64})\n",
    "temperatures['Country'] = temperatures['Country'].str.upper()\n",
    "temperatures['Country'] = temperatures['Country'].str.strip()\n",
    "temperatures['Country'].replace('US','USA',inplace=True)\n",
    "temperatures['AvgTemperature'].replace(-99,np.nan,inplace=True) #nulls come as -99\n",
    "temperatures['AvgTemperature'] = (temperatures['AvgTemperature'] - 30) / 2 #convert to celsius\n",
    "temperatures"
   ]
  },
  {
   "cell_type": "markdown",
   "metadata": {},
   "source": [
    "## Aggregating temperatures by country and year"
   ]
  },
  {
   "cell_type": "code",
   "execution_count": null,
   "metadata": {},
   "outputs": [],
   "source": [
    "temps = temperatures.groupby(['Country','Year'],as_index=False).agg(avg_temp = ('AvgTemperature','mean'), median_temp = ('AvgTemperature', 'median'), max_temp = ('AvgTemperature', 'max'))\n",
    "temps.to_csv('data/temps.csv')"
   ]
  },
  {
   "cell_type": "markdown",
   "metadata": {},
   "source": [
    "## Merging both datasets"
   ]
  },
  {
   "cell_type": "code",
   "execution_count": null,
   "metadata": {
    "scrolled": true
   },
   "outputs": [],
   "source": [
    "attacks_country_temp = pd.merge(attacks,temps,on=['Country','Year'],how='left')"
   ]
  },
  {
   "cell_type": "markdown",
   "metadata": {},
   "source": [
    "# Conclusions"
   ]
  },
  {
   "cell_type": "code",
   "execution_count": null,
   "metadata": {},
   "outputs": [],
   "source": [
    "full_report = ProfileReport(attacks_country_temp)\n",
    "full_report.to_file('reports/full_report.html')"
   ]
  },
  {
   "cell_type": "code",
   "execution_count": null,
   "metadata": {
    "scrolled": true
   },
   "outputs": [],
   "source": [
    "attacks_by_cy = attacks_country_temp[attacks_country_temp['avg_temp'].notnull()].groupby(['Country','Year','max_temp','median_temp','avg_temp'],\n",
    "                                                                           as_index=False).agg(number = ('max_temp', 'count'))"
   ]
  },
  {
   "cell_type": "markdown",
   "metadata": {},
   "source": [
    "## Correlation by temperature and year"
   ]
  },
  {
   "cell_type": "code",
   "execution_count": null,
   "metadata": {
    "scrolled": true
   },
   "outputs": [],
   "source": [
    "attacks_by_cy.corr().iloc[:5,:4]"
   ]
  },
  {
   "cell_type": "markdown",
   "metadata": {},
   "source": [
    "### By Country"
   ]
  },
  {
   "cell_type": "markdown",
   "metadata": {},
   "source": [
    "#### USA"
   ]
  },
  {
   "cell_type": "code",
   "execution_count": null,
   "metadata": {},
   "outputs": [],
   "source": [
    "attacks_by_cy[attacks_by_cy['Country'] == 'USA'].corr().iloc[:5,:4]"
   ]
  },
  {
   "cell_type": "markdown",
   "metadata": {},
   "source": [
    "#### Australia"
   ]
  },
  {
   "cell_type": "code",
   "execution_count": null,
   "metadata": {},
   "outputs": [],
   "source": [
    "attacks_by_cy[attacks_by_cy['Country'] == 'AUSTRALIA'].corr().iloc[:5,:4]"
   ]
  },
  {
   "cell_type": "markdown",
   "metadata": {},
   "source": [
    "#### South Africa"
   ]
  },
  {
   "cell_type": "code",
   "execution_count": null,
   "metadata": {},
   "outputs": [],
   "source": [
    "attacks_by_cy[attacks_by_cy['Country'] == 'SOUTH AFRICA'].corr().iloc[:5,:4]"
   ]
  },
  {
   "cell_type": "markdown",
   "metadata": {},
   "source": [
    "## Numbers"
   ]
  },
  {
   "cell_type": "markdown",
   "metadata": {},
   "source": [
    "### By fatality"
   ]
  },
  {
   "cell_type": "code",
   "execution_count": null,
   "metadata": {},
   "outputs": [],
   "source": [
    "attacks_country_temp[attacks_country_temp['Fatal'].notnull()].shape[0]"
   ]
  },
  {
   "cell_type": "code",
   "execution_count": null,
   "metadata": {},
   "outputs": [],
   "source": [
    "attacks_country_temp['Fatal'].value_counts(normalize=True) * 100"
   ]
  },
  {
   "cell_type": "markdown",
   "metadata": {},
   "source": [
    "### By sex"
   ]
  },
  {
   "cell_type": "code",
   "execution_count": null,
   "metadata": {},
   "outputs": [],
   "source": [
    "attacks_country_temp[attacks_country_temp['Sex'].notnull()].shape[0]"
   ]
  },
  {
   "cell_type": "code",
   "execution_count": null,
   "metadata": {},
   "outputs": [],
   "source": [
    "attacks_country_temp['Sex'].value_counts(normalize=True) * 100"
   ]
  },
  {
   "cell_type": "markdown",
   "metadata": {},
   "source": [
    "### By species"
   ]
  },
  {
   "cell_type": "markdown",
   "metadata": {},
   "source": [
    "#### Attacks count"
   ]
  },
  {
   "cell_type": "code",
   "execution_count": null,
   "metadata": {},
   "outputs": [],
   "source": [
    "attacks_country_temp[attacks_country_temp['Species'] != '']['Species'].value_counts().head(50)"
   ]
  },
  {
   "cell_type": "markdown",
   "metadata": {},
   "source": [
    "#### Fatality"
   ]
  },
  {
   "cell_type": "code",
   "execution_count": null,
   "metadata": {},
   "outputs": [],
   "source": [
    "attacks_country_temp[attacks_country_temp['Species'] != ''].groupby(['Species'],as_index=False).agg(Fatality = ('Fatal','mean'),\n",
    "                                                             Attacks=('Fatal','count')).head(20).sort_values('Fatality',ascending=False).head(10)"
   ]
  }
 ],
 "metadata": {
  "hide_input": false,
  "kernelspec": {
   "display_name": "Python 3",
   "language": "python",
   "name": "python3"
  },
  "language_info": {
   "codemirror_mode": {
    "name": "ipython",
    "version": 3
   },
   "file_extension": ".py",
   "mimetype": "text/x-python",
   "name": "python",
   "nbconvert_exporter": "python",
   "pygments_lexer": "ipython3",
   "version": "3.7.9"
  },
  "toc": {
   "base_numbering": 1,
   "nav_menu": {},
   "number_sections": true,
   "sideBar": true,
   "skip_h1_title": false,
   "title_cell": "Table of Contents",
   "title_sidebar": "Contents",
   "toc_cell": false,
   "toc_position": {},
   "toc_section_display": true,
   "toc_window_display": true
  },
  "varInspector": {
   "cols": {
    "lenName": 16,
    "lenType": 16,
    "lenVar": 40
   },
   "kernels_config": {
    "python": {
     "delete_cmd_postfix": "",
     "delete_cmd_prefix": "del ",
     "library": "var_list.py",
     "varRefreshCmd": "print(var_dic_list())"
    },
    "r": {
     "delete_cmd_postfix": ") ",
     "delete_cmd_prefix": "rm(",
     "library": "var_list.r",
     "varRefreshCmd": "cat(var_dic_list()) "
    }
   },
   "types_to_exclude": [
    "module",
    "function",
    "builtin_function_or_method",
    "instance",
    "_Feature"
   ],
   "window_display": false
  }
 },
 "nbformat": 4,
 "nbformat_minor": 4
}
