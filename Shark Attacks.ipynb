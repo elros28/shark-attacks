{
 "cells": [
  {
   "cell_type": "markdown",
   "metadata": {},
   "source": [
    "# Loading the data"
   ]
  },
  {
   "cell_type": "code",
   "execution_count": 1,
   "metadata": {},
   "outputs": [],
   "source": [
    "import pandas as pd\n",
    "import numpy as np\n",
    "import geopandas as gpd\n",
    "import matplotlib.pyplot as plt\n",
    "import seaborn as sns"
   ]
  },
  {
   "cell_type": "code",
   "execution_count": 2,
   "metadata": {},
   "outputs": [],
   "source": [
    "# Load the dataset\n",
    "attacks = pd.read_csv('data/attacks.csv', encoding='latin-1')\n",
    "pd.options.display.max_rows = 99\n",
    "pd.options.display.max_columns = 99"
   ]
  },
  {
   "cell_type": "code",
   "execution_count": 3,
   "metadata": {},
   "outputs": [
    {
     "data": {
      "text/html": [
       "<div>\n",
       "<style scoped>\n",
       "    .dataframe tbody tr th:only-of-type {\n",
       "        vertical-align: middle;\n",
       "    }\n",
       "\n",
       "    .dataframe tbody tr th {\n",
       "        vertical-align: top;\n",
       "    }\n",
       "\n",
       "    .dataframe thead th {\n",
       "        text-align: right;\n",
       "    }\n",
       "</style>\n",
       "<table border=\"1\" class=\"dataframe\">\n",
       "  <thead>\n",
       "    <tr style=\"text-align: right;\">\n",
       "      <th></th>\n",
       "      <th>Case Number</th>\n",
       "      <th>Date</th>\n",
       "      <th>Year</th>\n",
       "      <th>Type</th>\n",
       "      <th>Country</th>\n",
       "      <th>Area</th>\n",
       "      <th>Location</th>\n",
       "      <th>Activity</th>\n",
       "      <th>Name</th>\n",
       "      <th>Sex</th>\n",
       "      <th>Age</th>\n",
       "      <th>Injury</th>\n",
       "      <th>Fatal (Y/N)</th>\n",
       "      <th>Time</th>\n",
       "      <th>Species</th>\n",
       "      <th>Investigator or Source</th>\n",
       "      <th>pdf</th>\n",
       "      <th>href formula</th>\n",
       "      <th>href</th>\n",
       "      <th>Case Number.1</th>\n",
       "      <th>Case Number.2</th>\n",
       "      <th>original order</th>\n",
       "      <th>Unnamed: 22</th>\n",
       "      <th>Unnamed: 23</th>\n",
       "    </tr>\n",
       "  </thead>\n",
       "  <tbody>\n",
       "    <tr>\n",
       "      <th>15468</th>\n",
       "      <td>NaN</td>\n",
       "      <td>NaN</td>\n",
       "      <td>NaN</td>\n",
       "      <td>NaN</td>\n",
       "      <td>NaN</td>\n",
       "      <td>NaN</td>\n",
       "      <td>NaN</td>\n",
       "      <td>NaN</td>\n",
       "      <td>NaN</td>\n",
       "      <td>NaN</td>\n",
       "      <td>NaN</td>\n",
       "      <td>NaN</td>\n",
       "      <td>NaN</td>\n",
       "      <td>NaN</td>\n",
       "      <td>NaN</td>\n",
       "      <td>NaN</td>\n",
       "      <td>NaN</td>\n",
       "      <td>NaN</td>\n",
       "      <td>NaN</td>\n",
       "      <td>NaN</td>\n",
       "      <td>NaN</td>\n",
       "      <td>NaN</td>\n",
       "      <td>NaN</td>\n",
       "      <td>NaN</td>\n",
       "    </tr>\n",
       "    <tr>\n",
       "      <th>11119</th>\n",
       "      <td>NaN</td>\n",
       "      <td>NaN</td>\n",
       "      <td>NaN</td>\n",
       "      <td>NaN</td>\n",
       "      <td>NaN</td>\n",
       "      <td>NaN</td>\n",
       "      <td>NaN</td>\n",
       "      <td>NaN</td>\n",
       "      <td>NaN</td>\n",
       "      <td>NaN</td>\n",
       "      <td>NaN</td>\n",
       "      <td>NaN</td>\n",
       "      <td>NaN</td>\n",
       "      <td>NaN</td>\n",
       "      <td>NaN</td>\n",
       "      <td>NaN</td>\n",
       "      <td>NaN</td>\n",
       "      <td>NaN</td>\n",
       "      <td>NaN</td>\n",
       "      <td>NaN</td>\n",
       "      <td>NaN</td>\n",
       "      <td>NaN</td>\n",
       "      <td>NaN</td>\n",
       "      <td>NaN</td>\n",
       "    </tr>\n",
       "    <tr>\n",
       "      <th>21826</th>\n",
       "      <td>NaN</td>\n",
       "      <td>NaN</td>\n",
       "      <td>NaN</td>\n",
       "      <td>NaN</td>\n",
       "      <td>NaN</td>\n",
       "      <td>NaN</td>\n",
       "      <td>NaN</td>\n",
       "      <td>NaN</td>\n",
       "      <td>NaN</td>\n",
       "      <td>NaN</td>\n",
       "      <td>NaN</td>\n",
       "      <td>NaN</td>\n",
       "      <td>NaN</td>\n",
       "      <td>NaN</td>\n",
       "      <td>NaN</td>\n",
       "      <td>NaN</td>\n",
       "      <td>NaN</td>\n",
       "      <td>NaN</td>\n",
       "      <td>NaN</td>\n",
       "      <td>NaN</td>\n",
       "      <td>NaN</td>\n",
       "      <td>NaN</td>\n",
       "      <td>NaN</td>\n",
       "      <td>NaN</td>\n",
       "    </tr>\n",
       "    <tr>\n",
       "      <th>13587</th>\n",
       "      <td>NaN</td>\n",
       "      <td>NaN</td>\n",
       "      <td>NaN</td>\n",
       "      <td>NaN</td>\n",
       "      <td>NaN</td>\n",
       "      <td>NaN</td>\n",
       "      <td>NaN</td>\n",
       "      <td>NaN</td>\n",
       "      <td>NaN</td>\n",
       "      <td>NaN</td>\n",
       "      <td>NaN</td>\n",
       "      <td>NaN</td>\n",
       "      <td>NaN</td>\n",
       "      <td>NaN</td>\n",
       "      <td>NaN</td>\n",
       "      <td>NaN</td>\n",
       "      <td>NaN</td>\n",
       "      <td>NaN</td>\n",
       "      <td>NaN</td>\n",
       "      <td>NaN</td>\n",
       "      <td>NaN</td>\n",
       "      <td>NaN</td>\n",
       "      <td>NaN</td>\n",
       "      <td>NaN</td>\n",
       "    </tr>\n",
       "    <tr>\n",
       "      <th>5551</th>\n",
       "      <td>1900.12.27</td>\n",
       "      <td>27-Dec-1900</td>\n",
       "      <td>1900.0</td>\n",
       "      <td>Unprovoked</td>\n",
       "      <td>AUSTRALIA</td>\n",
       "      <td>New South Wales</td>\n",
       "      <td>Middle Harbour, Sydney</td>\n",
       "      <td>Bathing</td>\n",
       "      <td>Thomas Houstan</td>\n",
       "      <td>M</td>\n",
       "      <td>NaN</td>\n",
       "      <td>FATAL</td>\n",
       "      <td>Y</td>\n",
       "      <td>NaN</td>\n",
       "      <td>NaN</td>\n",
       "      <td>Taranaki Herald, 12/28/1900</td>\n",
       "      <td>1900.12.27-Houston.pdf</td>\n",
       "      <td>http://sharkattackfile.net/spreadsheets/pdf_di...</td>\n",
       "      <td>http://sharkattackfile.net/spreadsheets/pdf_di...</td>\n",
       "      <td>1900.12.27</td>\n",
       "      <td>1900.12.27</td>\n",
       "      <td>752.0</td>\n",
       "      <td>NaN</td>\n",
       "      <td>NaN</td>\n",
       "    </tr>\n",
       "    <tr>\n",
       "      <th>3536</th>\n",
       "      <td>1967.01.27</td>\n",
       "      <td>27-Jan-1967</td>\n",
       "      <td>1967.0</td>\n",
       "      <td>Boat</td>\n",
       "      <td>SOUTH AFRICA</td>\n",
       "      <td>Western Cape Province</td>\n",
       "      <td>Melkbosstrand</td>\n",
       "      <td>Fishing for rock lobster</td>\n",
       "      <td>Lobster boat, occupants: Mr. P. Valentine &amp; Mr...</td>\n",
       "      <td>NaN</td>\n",
       "      <td>NaN</td>\n",
       "      <td>Holed &amp; sank boat, 1 man flung into water but ...</td>\n",
       "      <td>N</td>\n",
       "      <td>NaN</td>\n",
       "      <td>White shark or thresher shark</td>\n",
       "      <td>GSAF</td>\n",
       "      <td>1967.01.27-boat.pdf</td>\n",
       "      <td>http://sharkattackfile.net/spreadsheets/pdf_di...</td>\n",
       "      <td>http://sharkattackfile.net/spreadsheets/pdf_di...</td>\n",
       "      <td>1967.01.27</td>\n",
       "      <td>1967.01.27</td>\n",
       "      <td>2767.0</td>\n",
       "      <td>NaN</td>\n",
       "      <td>NaN</td>\n",
       "    </tr>\n",
       "    <tr>\n",
       "      <th>11472</th>\n",
       "      <td>NaN</td>\n",
       "      <td>NaN</td>\n",
       "      <td>NaN</td>\n",
       "      <td>NaN</td>\n",
       "      <td>NaN</td>\n",
       "      <td>NaN</td>\n",
       "      <td>NaN</td>\n",
       "      <td>NaN</td>\n",
       "      <td>NaN</td>\n",
       "      <td>NaN</td>\n",
       "      <td>NaN</td>\n",
       "      <td>NaN</td>\n",
       "      <td>NaN</td>\n",
       "      <td>NaN</td>\n",
       "      <td>NaN</td>\n",
       "      <td>NaN</td>\n",
       "      <td>NaN</td>\n",
       "      <td>NaN</td>\n",
       "      <td>NaN</td>\n",
       "      <td>NaN</td>\n",
       "      <td>NaN</td>\n",
       "      <td>NaN</td>\n",
       "      <td>NaN</td>\n",
       "      <td>NaN</td>\n",
       "    </tr>\n",
       "    <tr>\n",
       "      <th>1648</th>\n",
       "      <td>2004.08.00</td>\n",
       "      <td>Aug-2004</td>\n",
       "      <td>2004.0</td>\n",
       "      <td>Boat</td>\n",
       "      <td>SOUTH AFRICA</td>\n",
       "      <td>KwaZulu-Natal</td>\n",
       "      <td>Park Rynie</td>\n",
       "      <td>Fishing</td>\n",
       "      <td>boat x 2</td>\n",
       "      <td>NaN</td>\n",
       "      <td>NaN</td>\n",
       "      <td>No injury to occupants; boat damaged</td>\n",
       "      <td>N</td>\n",
       "      <td>NaN</td>\n",
       "      <td>3 m to 4 m [10' to 13']  white shark</td>\n",
       "      <td>J. Eager, scubaradio.com</td>\n",
       "      <td>2004.08.00-SAboats.pdf</td>\n",
       "      <td>http://sharkattackfile.net/spreadsheets/pdf_di...</td>\n",
       "      <td>http://sharkattackfile.net/spreadsheets/pdf_di...</td>\n",
       "      <td>2004.08.00</td>\n",
       "      <td>2004.08.00</td>\n",
       "      <td>4655.0</td>\n",
       "      <td>NaN</td>\n",
       "      <td>NaN</td>\n",
       "    </tr>\n",
       "    <tr>\n",
       "      <th>13456</th>\n",
       "      <td>NaN</td>\n",
       "      <td>NaN</td>\n",
       "      <td>NaN</td>\n",
       "      <td>NaN</td>\n",
       "      <td>NaN</td>\n",
       "      <td>NaN</td>\n",
       "      <td>NaN</td>\n",
       "      <td>NaN</td>\n",
       "      <td>NaN</td>\n",
       "      <td>NaN</td>\n",
       "      <td>NaN</td>\n",
       "      <td>NaN</td>\n",
       "      <td>NaN</td>\n",
       "      <td>NaN</td>\n",
       "      <td>NaN</td>\n",
       "      <td>NaN</td>\n",
       "      <td>NaN</td>\n",
       "      <td>NaN</td>\n",
       "      <td>NaN</td>\n",
       "      <td>NaN</td>\n",
       "      <td>NaN</td>\n",
       "      <td>NaN</td>\n",
       "      <td>NaN</td>\n",
       "      <td>NaN</td>\n",
       "    </tr>\n",
       "    <tr>\n",
       "      <th>23999</th>\n",
       "      <td>NaN</td>\n",
       "      <td>NaN</td>\n",
       "      <td>NaN</td>\n",
       "      <td>NaN</td>\n",
       "      <td>NaN</td>\n",
       "      <td>NaN</td>\n",
       "      <td>NaN</td>\n",
       "      <td>NaN</td>\n",
       "      <td>NaN</td>\n",
       "      <td>NaN</td>\n",
       "      <td>NaN</td>\n",
       "      <td>NaN</td>\n",
       "      <td>NaN</td>\n",
       "      <td>NaN</td>\n",
       "      <td>NaN</td>\n",
       "      <td>NaN</td>\n",
       "      <td>NaN</td>\n",
       "      <td>NaN</td>\n",
       "      <td>NaN</td>\n",
       "      <td>NaN</td>\n",
       "      <td>NaN</td>\n",
       "      <td>NaN</td>\n",
       "      <td>NaN</td>\n",
       "      <td>NaN</td>\n",
       "    </tr>\n",
       "  </tbody>\n",
       "</table>\n",
       "</div>"
      ],
      "text/plain": [
       "      Case Number         Date    Year        Type       Country  \\\n",
       "15468         NaN          NaN     NaN         NaN           NaN   \n",
       "11119         NaN          NaN     NaN         NaN           NaN   \n",
       "21826         NaN          NaN     NaN         NaN           NaN   \n",
       "13587         NaN          NaN     NaN         NaN           NaN   \n",
       "5551   1900.12.27  27-Dec-1900  1900.0  Unprovoked     AUSTRALIA   \n",
       "3536   1967.01.27  27-Jan-1967  1967.0        Boat  SOUTH AFRICA   \n",
       "11472         NaN          NaN     NaN         NaN           NaN   \n",
       "1648   2004.08.00     Aug-2004  2004.0        Boat  SOUTH AFRICA   \n",
       "13456         NaN          NaN     NaN         NaN           NaN   \n",
       "23999         NaN          NaN     NaN         NaN           NaN   \n",
       "\n",
       "                        Area                 Location  \\\n",
       "15468                    NaN                      NaN   \n",
       "11119                    NaN                      NaN   \n",
       "21826                    NaN                      NaN   \n",
       "13587                    NaN                      NaN   \n",
       "5551         New South Wales  Middle Harbour, Sydney    \n",
       "3536   Western Cape Province            Melkbosstrand   \n",
       "11472                    NaN                      NaN   \n",
       "1648           KwaZulu-Natal               Park Rynie   \n",
       "13456                    NaN                      NaN   \n",
       "23999                    NaN                      NaN   \n",
       "\n",
       "                       Activity  \\\n",
       "15468                       NaN   \n",
       "11119                       NaN   \n",
       "21826                       NaN   \n",
       "13587                       NaN   \n",
       "5551                    Bathing   \n",
       "3536   Fishing for rock lobster   \n",
       "11472                       NaN   \n",
       "1648                    Fishing   \n",
       "13456                       NaN   \n",
       "23999                       NaN   \n",
       "\n",
       "                                                    Name Sex   Age  \\\n",
       "15468                                                NaN  NaN  NaN   \n",
       "11119                                                NaN  NaN  NaN   \n",
       "21826                                                NaN  NaN  NaN   \n",
       "13587                                                NaN  NaN  NaN   \n",
       "5551                                      Thomas Houstan    M  NaN   \n",
       "3536   Lobster boat, occupants: Mr. P. Valentine & Mr...  NaN  NaN   \n",
       "11472                                                NaN  NaN  NaN   \n",
       "1648                                            boat x 2  NaN  NaN   \n",
       "13456                                                NaN  NaN  NaN   \n",
       "23999                                                NaN  NaN  NaN   \n",
       "\n",
       "                                                  Injury Fatal (Y/N) Time  \\\n",
       "15468                                                NaN         NaN  NaN   \n",
       "11119                                                NaN         NaN  NaN   \n",
       "21826                                                NaN         NaN  NaN   \n",
       "13587                                                NaN         NaN  NaN   \n",
       "5551                                               FATAL           Y  NaN   \n",
       "3536   Holed & sank boat, 1 man flung into water but ...           N  NaN   \n",
       "11472                                                NaN         NaN  NaN   \n",
       "1648                No injury to occupants; boat damaged           N  NaN   \n",
       "13456                                                NaN         NaN  NaN   \n",
       "23999                                                NaN         NaN  NaN   \n",
       "\n",
       "                                   Species        Investigator or Source  \\\n",
       "15468                                   NaN                          NaN   \n",
       "11119                                   NaN                          NaN   \n",
       "21826                                   NaN                          NaN   \n",
       "13587                                   NaN                          NaN   \n",
       "5551                                    NaN  Taranaki Herald, 12/28/1900   \n",
       "3536          White shark or thresher shark                         GSAF   \n",
       "11472                                   NaN                          NaN   \n",
       "1648   3 m to 4 m [10' to 13']  white shark     J. Eager, scubaradio.com   \n",
       "13456                                   NaN                          NaN   \n",
       "23999                                   NaN                          NaN   \n",
       "\n",
       "                          pdf  \\\n",
       "15468                     NaN   \n",
       "11119                     NaN   \n",
       "21826                     NaN   \n",
       "13587                     NaN   \n",
       "5551   1900.12.27-Houston.pdf   \n",
       "3536      1967.01.27-boat.pdf   \n",
       "11472                     NaN   \n",
       "1648   2004.08.00-SAboats.pdf   \n",
       "13456                     NaN   \n",
       "23999                     NaN   \n",
       "\n",
       "                                            href formula  \\\n",
       "15468                                                NaN   \n",
       "11119                                                NaN   \n",
       "21826                                                NaN   \n",
       "13587                                                NaN   \n",
       "5551   http://sharkattackfile.net/spreadsheets/pdf_di...   \n",
       "3536   http://sharkattackfile.net/spreadsheets/pdf_di...   \n",
       "11472                                                NaN   \n",
       "1648   http://sharkattackfile.net/spreadsheets/pdf_di...   \n",
       "13456                                                NaN   \n",
       "23999                                                NaN   \n",
       "\n",
       "                                                    href Case Number.1  \\\n",
       "15468                                                NaN           NaN   \n",
       "11119                                                NaN           NaN   \n",
       "21826                                                NaN           NaN   \n",
       "13587                                                NaN           NaN   \n",
       "5551   http://sharkattackfile.net/spreadsheets/pdf_di...    1900.12.27   \n",
       "3536   http://sharkattackfile.net/spreadsheets/pdf_di...    1967.01.27   \n",
       "11472                                                NaN           NaN   \n",
       "1648   http://sharkattackfile.net/spreadsheets/pdf_di...    2004.08.00   \n",
       "13456                                                NaN           NaN   \n",
       "23999                                                NaN           NaN   \n",
       "\n",
       "      Case Number.2  original order Unnamed: 22 Unnamed: 23  \n",
       "15468           NaN             NaN         NaN         NaN  \n",
       "11119           NaN             NaN         NaN         NaN  \n",
       "21826           NaN             NaN         NaN         NaN  \n",
       "13587           NaN             NaN         NaN         NaN  \n",
       "5551     1900.12.27           752.0         NaN         NaN  \n",
       "3536     1967.01.27          2767.0         NaN         NaN  \n",
       "11472           NaN             NaN         NaN         NaN  \n",
       "1648     2004.08.00          4655.0         NaN         NaN  \n",
       "13456           NaN             NaN         NaN         NaN  \n",
       "23999           NaN             NaN         NaN         NaN  "
      ]
     },
     "execution_count": 3,
     "metadata": {},
     "output_type": "execute_result"
    }
   ],
   "source": [
    "attacks.sample(10)"
   ]
  },
  {
   "cell_type": "markdown",
   "metadata": {},
   "source": [
    "# Filtering"
   ]
  },
  {
   "cell_type": "markdown",
   "metadata": {},
   "source": [
    "## Dropping columns with no use & NaN rows"
   ]
  },
  {
   "cell_type": "code",
   "execution_count": 4,
   "metadata": {},
   "outputs": [],
   "source": [
    "attacks.drop(columns=['Case Number','Location','Name','Injury','Investigator or Source','pdf','href formula',\n",
    "                      'href','original order','Unnamed: 22', 'Unnamed: 23','Case Number.1',\n",
    "                      'Case Number.2'], inplace=True)\n",
    "attacks.dropna(axis='index', how='all', inplace=True)"
   ]
  },
  {
   "cell_type": "markdown",
   "metadata": {},
   "source": [
    "## Fixing column names"
   ]
  },
  {
   "cell_type": "code",
   "execution_count": 5,
   "metadata": {},
   "outputs": [
    {
     "data": {
      "text/plain": [
       "Index(['Date', 'Year', 'Type', 'Country', 'Area', 'Activity', 'Sex ', 'Age',\n",
       "       'Fatal (Y/N)', 'Time', 'Species '],\n",
       "      dtype='object')"
      ]
     },
     "execution_count": 5,
     "metadata": {},
     "output_type": "execute_result"
    }
   ],
   "source": [
    "attacks.columns"
   ]
  },
  {
   "cell_type": "code",
   "execution_count": 6,
   "metadata": {},
   "outputs": [],
   "source": [
    "attacks.columns = ['Date', 'Year', 'Type', 'Country', 'Area', 'Activity',\n",
    "                   'Sex', 'Age', 'Fatal', 'Time', 'Description']"
   ]
  },
  {
   "cell_type": "markdown",
   "metadata": {},
   "source": [
    "# Cleaning fields"
   ]
  },
  {
   "cell_type": "markdown",
   "metadata": {},
   "source": [
    "## Fatal"
   ]
  },
  {
   "cell_type": "code",
   "execution_count": 7,
   "metadata": {},
   "outputs": [
    {
     "data": {
      "text/plain": [
       "N          4293\n",
       "Y          1388\n",
       "UNKNOWN      71\n",
       " N            7\n",
       "2017          1\n",
       "y             1\n",
       "N             1\n",
       "M             1\n",
       "Name: Fatal, dtype: int64"
      ]
     },
     "execution_count": 7,
     "metadata": {},
     "output_type": "execute_result"
    }
   ],
   "source": [
    "attacks['Fatal'].value_counts()"
   ]
  },
  {
   "cell_type": "code",
   "execution_count": 8,
   "metadata": {},
   "outputs": [],
   "source": [
    "attacks['Fatal'] = attacks['Fatal'].str.strip()\n",
    "attacks['Fatal'] = attacks['Fatal'].str.upper()\n",
    "attacks['Fatal'].replace(['M','2017'], np.nan, inplace=True)"
   ]
  },
  {
   "cell_type": "code",
   "execution_count": 9,
   "metadata": {},
   "outputs": [
    {
     "data": {
      "text/plain": [
       "0.0    4301\n",
       "1.0    1389\n",
       "Name: Fatal, dtype: int64"
      ]
     },
     "execution_count": 9,
     "metadata": {},
     "output_type": "execute_result"
    }
   ],
   "source": [
    "attacks['Fatal'].replace(['UNKNOWN'], np.nan, inplace=True)\n",
    "attacks['Fatal'].replace(['N'], 0, inplace=True)\n",
    "attacks['Fatal'].replace(['Y'], 1, inplace=True)\n",
    "attacks['Fatal'].value_counts()"
   ]
  },
  {
   "cell_type": "markdown",
   "metadata": {},
   "source": [
    "## Type"
   ]
  },
  {
   "cell_type": "code",
   "execution_count": 10,
   "metadata": {},
   "outputs": [
    {
     "data": {
      "text/plain": [
       "Unprovoked      4595\n",
       "Provoked         574\n",
       "Invalid          547\n",
       "Sea Disaster     239\n",
       "Boating          203\n",
       "Boat             137\n",
       "Questionable       2\n",
       "Boatomg            1\n",
       "Name: Type, dtype: int64"
      ]
     },
     "execution_count": 10,
     "metadata": {},
     "output_type": "execute_result"
    }
   ],
   "source": [
    "attacks['Type'].value_counts()"
   ]
  },
  {
   "cell_type": "code",
   "execution_count": 11,
   "metadata": {},
   "outputs": [
    {
     "data": {
      "text/plain": [
       "UNPROVOKED      4595\n",
       "PROVOKED         574\n",
       "INVALID          549\n",
       "BOAT             341\n",
       "SEA DISASTER     239\n",
       "Name: Type, dtype: int64"
      ]
     },
     "execution_count": 11,
     "metadata": {},
     "output_type": "execute_result"
    }
   ],
   "source": [
    "attacks['Type'] = attacks['Type'].str.upper()\n",
    "attacks['Type'].replace('BOAT\\w*','BOAT',regex=True,inplace=True)\n",
    "attacks['Type'].replace('QUESTIONABLE','INVALID',inplace=True)\n",
    "attacks['Type'].value_counts().head(10)\n",
    "attacks['Type'].value_counts()"
   ]
  },
  {
   "cell_type": "markdown",
   "metadata": {},
   "source": [
    "## Sex"
   ]
  },
  {
   "cell_type": "code",
   "execution_count": 12,
   "metadata": {},
   "outputs": [
    {
     "data": {
      "text/plain": [
       "M      5094\n",
       "F       637\n",
       "N         2\n",
       "M         2\n",
       "lli       1\n",
       ".         1\n",
       "Name: Sex, dtype: int64"
      ]
     },
     "execution_count": 12,
     "metadata": {},
     "output_type": "execute_result"
    }
   ],
   "source": [
    "attacks['Sex'].value_counts()"
   ]
  },
  {
   "cell_type": "code",
   "execution_count": 13,
   "metadata": {},
   "outputs": [
    {
     "data": {
      "text/plain": [
       "M    5096\n",
       "F     637\n",
       "Name: Sex, dtype: int64"
      ]
     },
     "execution_count": 13,
     "metadata": {},
     "output_type": "execute_result"
    }
   ],
   "source": [
    "attacks['Sex'] = attacks['Sex'].str.strip()\n",
    "attacks['Sex'].replace(['N','.','lli'],np.nan,inplace=True)\n",
    "attacks['Sex'].value_counts()"
   ]
  },
  {
   "cell_type": "markdown",
   "metadata": {},
   "source": [
    "## Age"
   ]
  },
  {
   "cell_type": "code",
   "execution_count": 14,
   "metadata": {},
   "outputs": [
    {
     "data": {
      "text/plain": [
       "84                          1\n",
       "53                         13\n",
       "37, 67, 35, 27,  ? & 27     1\n",
       "?    &   14                 1\n",
       "Ca. 33                      1\n",
       "30 or 36                    1\n",
       "1                           2\n",
       "2 to 3 months               1\n",
       "61                         13\n",
       "28                         80\n",
       "55                         23\n",
       "7 or 8                      2\n",
       "9 months                    1\n",
       "32 & 30                     1\n",
       "64                          4\n",
       "68                          7\n",
       "23 & 20                     1\n",
       "6                          14\n",
       "13 or 14                    1\n",
       "36 & 26                     1\n",
       "Name: Age, dtype: int64"
      ]
     },
     "execution_count": 14,
     "metadata": {},
     "output_type": "execute_result"
    }
   ],
   "source": [
    "attacks['Age'].value_counts().sample(20)"
   ]
  },
  {
   "cell_type": "code",
   "execution_count": 15,
   "metadata": {},
   "outputs": [
    {
     "data": {
      "text/plain": [
       "17.0    154\n",
       "16.0    152\n",
       "18.0    150\n",
       "20.0    142\n",
       "19.0    142\n",
       "15.0    139\n",
       "21.0    119\n",
       "22.0    117\n",
       "25.0    115\n",
       "24.0    106\n",
       "14.0    101\n",
       "13.0     94\n",
       "26.0     83\n",
       "28.0     81\n",
       "23.0     80\n",
       "27.0     78\n",
       "29.0     78\n",
       "30.0     77\n",
       "35.0     76\n",
       "12.0     73\n",
       "Name: Age, dtype: int64"
      ]
     },
     "execution_count": 15,
     "metadata": {},
     "output_type": "execute_result"
    }
   ],
   "source": [
    "attacks['Age'].replace(to_replace=['Teen','teen'],value='16',inplace=True)\n",
    "attacks['Age'].replace(to_replace='30s',value='35',inplace=True)\n",
    "attacks['Age'].replace(to_replace='20s',value='25',inplace=True)\n",
    "attacks['Age'] = pd.to_numeric(attacks['Age'], errors='coerce', downcast='integer')\n",
    "attacks['Age'].value_counts().head(20)"
   ]
  },
  {
   "cell_type": "markdown",
   "metadata": {},
   "source": [
    "## Activity"
   ]
  },
  {
   "cell_type": "code",
   "execution_count": 16,
   "metadata": {},
   "outputs": [
    {
     "data": {
      "text/plain": [
       "SURFING            976\n",
       "SWIMMING           916\n",
       "FISHING            444\n",
       "SPEARFISHING       340\n",
       "BATHING            165\n",
       "WADING             149\n",
       "DIVING             130\n",
       "STANDING           101\n",
       "SCUBA DIVING        91\n",
       "SNORKELING          89\n",
       "BODY BOARDING       65\n",
       "BODY SURFING        50\n",
       "BOOGIE BOARDING     45\n",
       "KAYAKING            35\n",
       "FELL OVERBOARD      33\n",
       "PEARL DIVING        32\n",
       "TREADING WATER      32\n",
       "FREE DIVING         30\n",
       "WINDSURFING         19\n",
       "SURF SKIING         19\n",
       "Name: Activity, dtype: int64"
      ]
     },
     "execution_count": 16,
     "metadata": {},
     "output_type": "execute_result"
    }
   ],
   "source": [
    "attacks['Activity'] = attacks['Activity'].str.strip()\n",
    "attacks['Activity'] = attacks['Activity'].str.upper()\n",
    "attacks['Activity'].value_counts().head(20)"
   ]
  },
  {
   "cell_type": "code",
   "execution_count": 17,
   "metadata": {},
   "outputs": [],
   "source": [
    "attacks['Activity'].replace(['JUMPING','STANDING','WADING','WALKING','PLAYING','SPLASHING','DANGLING FEET IN THE WATER'],'BATHING',inplace=True)\n",
    "attacks['Activity'].replace(['BODY SURFING','BOOGIE BOARDING','BODY-BOARDING'],'BODY BOARDING',inplace=True)\n",
    "attacks['Activity'].replace('.*SPEARFISHING.*','SPEARFISHING',regex=True,inplace=True)\n",
    "attacks['Activity'].replace('.*DIVING.*','DIVING',regex=True,inplace=True)\n",
    "attacks['Activity'].replace(['.*SURFING','KITE BOARDING','.*SKIING'],'SURFING',regex=True,inplace=True)\n",
    "attacks['Activity'].replace(['.*KAYAK.*','.*BOAT.*','CANOEING','ROWING','SAILING','FISHING FOR MACKEREL'],'ON BOAT',regex=True,inplace=True)\n",
    "attacks['Activity'].replace(['TREADING WATER','FLOATING ON HIS BACK'],'FLOATING',inplace=True)\n",
    "attacks['Activity'].replace(['.*OVERBOARD.*','JUMPED INTO THE WATER'],'FELL INTO THE WATER',regex=True,inplace=True)\n",
    "attacks['Activity'].replace('FREEDOM SWIMMING','SWIMMING',inplace=True)\n",
    "attacks['Activity'].replace('SURF FISHING','WADE FISHING',inplace=True)\n",
    "attacks['Activity'].replace(['SITTING ON SURFBOARD','SURFING (SITTING ON HIS BOARD)','PADDLE BOARDING','STAND-UP PADDLEBOARDING','PADDLING ON SURFBOARD'],'ON SURFBOARD',inplace=True)\n",
    "attacks['Activity'].replace(['.{,30} SHARK.','SHARK RELATED ACTIVITY.*'],'SHARK RELATED ACTIVITY',regex=True,inplace=True)"
   ]
  },
  {
   "cell_type": "code",
   "execution_count": 18,
   "metadata": {},
   "outputs": [
    {
     "data": {
      "text/plain": [
       "SURFING                   1078\n",
       "OTHER                      995\n",
       "SWIMMING                   925\n",
       "DIVING                     535\n",
       "BATHING                    455\n",
       "FISHING                    444\n",
       "SPEARFISHING               432\n",
       "ON BOAT                    276\n",
       "BODY BOARDING              164\n",
       "FELL INTO THE WATER        115\n",
       "SHARK RELATED ACTIVITY     100\n",
       "SNORKELING                  89\n",
       "FLOATING                    54\n",
       "ON SURFBOARD                35\n",
       "WADE FISHING                19\n",
       "SHARK FISHING               16\n",
       "SEA DISASTER                14\n",
       "SHIPWRECK                    6\n",
       "MURDER                       6\n",
       "Name: Activity, dtype: int64"
      ]
     },
     "execution_count": 18,
     "metadata": {},
     "output_type": "execute_result"
    }
   ],
   "source": [
    "mask = attacks['Activity'].value_counts().loc[attacks['Activity'].value_counts() < 5].index\n",
    "attacks.loc[attacks['Activity'].isin(mask),'Activity'] = 'OTHER'\n",
    "attacks['Activity'].value_counts().head(30)"
   ]
  },
  {
   "cell_type": "markdown",
   "metadata": {},
   "source": [
    "## Description/Species"
   ]
  },
  {
   "cell_type": "code",
   "execution_count": 19,
   "metadata": {},
   "outputs": [],
   "source": [
    "attacks['Description'] = attacks['Description'].str.upper()\n",
    "attacks['Description'].replace(['.*UNCONFIRMED.*','.* NOT CONFIRMED.*',\n",
    "                                '.*QUESTIONABLE.*', '.*FOOT SHARK.*',\n",
    "                                '.*SMALL SHARK.*', '.*FROM SHARK.*',\n",
    "                                '.*FEMALE SHARK.*', '.*LARGE SHARK.*',\n",
    "                                '.*BUT SHARK.*', '.*JUVENILE SHARK.*',\n",
    "                                '.*THE SHARK.*','.*TWO SHARK.*',\n",
    "                                '.*ANOTHER SHARK.*','.*KG SHARK.*',\n",
    "                                '.*SEVERAL SHARK.*','.*SAME SHARK.*',\n",
    "                                '.*GROUND SHARK.*'],\n",
    "                               np.nan,regex=True,inplace=True)"
   ]
  },
  {
   "cell_type": "code",
   "execution_count": 20,
   "metadata": {},
   "outputs": [],
   "source": [
    "attacks['Species'] = attacks[attacks['Description'].notnull()]['Description'].str.findall('\\w{3,} SHARK')\n",
    "attacks['Species'] = attacks['Species'].apply(lambda x : ' OR '.join(x) if x == x else x)"
   ]
  },
  {
   "cell_type": "code",
   "execution_count": 21,
   "metadata": {},
   "outputs": [],
   "source": [
    "attacks.loc[attacks['Species'] == attacks['Species'], 'Species']\n",
    "attacks.loc[attacks['Species'].notnull() & attacks['Species'].str.contains(' OR '),'Species'] = np.nan\n",
    "attacks.loc[attacks['Species'] == '','Species'] = np.nan"
   ]
  },
  {
   "cell_type": "code",
   "execution_count": 22,
   "metadata": {},
   "outputs": [
    {
     "data": {
      "text/plain": [
       "WHITE SHARK          623\n",
       "TIGER SHARK          258\n",
       "BULL SHARK           170\n",
       "NURSE SHARK           96\n",
       "WHALER SHARK          66\n",
       "REEF SHARK            64\n",
       "BLACKTIP SHARK        60\n",
       "MAKO SHARK            52\n",
       "WOBBEGONG SHARK       46\n",
       "HAMMERHEAD SHARK      43\n",
       "SPINNER SHARK         43\n",
       "RAGGEDTOOTH SHARK     43\n",
       "BLUE SHARK            38\n",
       "LEMON SHARK           33\n",
       "ZAMBESI SHARK         29\n",
       "WHITETIP SHARK        23\n",
       "SANDTIGER SHARK       20\n",
       "SAND SHARK            16\n",
       "DUSKY SHARK           12\n",
       "SEVENGILL SHARK       11\n",
       "CARPET SHARK           8\n",
       "BASKING SHARK          7\n",
       "GILL SHARK             7\n",
       "GALAPAGOS SHARK        7\n",
       "ANGEL SHARK            6\n",
       "DOG SHARK              6\n",
       "COLORED SHARK          6\n",
       "PORBEAGLE SHARK        6\n",
       "SANDBAR SHARK          5\n",
       "COPPER SHARK           5\n",
       "SILKY SHARK            4\n",
       "BROWN SHARK            4\n",
       "THRESHER SHARK         3\n",
       "WHALE SHARK            3\n",
       "ZAMBEZI SHARK          3\n",
       "SALMON SHARK           3\n",
       "GOBLIN SHARK           2\n",
       "CAPTIVE SHARK          2\n",
       "SILVERTIP SHARK        2\n",
       "COW SHARK              2\n",
       "Name: Species, dtype: int64"
      ]
     },
     "execution_count": 22,
     "metadata": {},
     "output_type": "execute_result"
    }
   ],
   "source": [
    "attacks.drop(columns=['Description'], inplace=True)\n",
    "attacks['Species'].value_counts().head(40)"
   ]
  },
  {
   "cell_type": "markdown",
   "metadata": {},
   "source": [
    "## Year"
   ]
  },
  {
   "cell_type": "code",
   "execution_count": 23,
   "metadata": {},
   "outputs": [
    {
     "data": {
      "text/plain": [
       "2015.0    143\n",
       "2017.0    136\n",
       "2016.0    130\n",
       "2011.0    128\n",
       "2014.0    127\n",
       "0.0       125\n",
       "2008.0    122\n",
       "2013.0    122\n",
       "2009.0    120\n",
       "2012.0    117\n",
       "Name: Year, dtype: int64"
      ]
     },
     "execution_count": 23,
     "metadata": {},
     "output_type": "execute_result"
    }
   ],
   "source": [
    "attacks[attacks['Year'].notnull()]['Year'].value_counts().head(10)"
   ]
  },
  {
   "cell_type": "code",
   "execution_count": 24,
   "metadata": {},
   "outputs": [
    {
     "data": {
      "text/plain": [
       "2015.0    143\n",
       "2017.0    136\n",
       "2016.0    130\n",
       "2011.0    128\n",
       "2014.0    127\n",
       "2008.0    122\n",
       "2013.0    122\n",
       "2009.0    120\n",
       "2012.0    117\n",
       "2007.0    112\n",
       "Name: Year, dtype: int64"
      ]
     },
     "execution_count": 24,
     "metadata": {},
     "output_type": "execute_result"
    }
   ],
   "source": [
    "attacks['Year'].replace(0,np.nan,inplace=True)\n",
    "attacks['Year'] = pd.to_numeric(attacks['Year'], errors='coerce', downcast='integer')\n",
    "attacks['Year'].value_counts().head(10)"
   ]
  },
  {
   "cell_type": "markdown",
   "metadata": {},
   "source": [
    "## Date"
   ]
  },
  {
   "cell_type": "code",
   "execution_count": 25,
   "metadata": {},
   "outputs": [
    {
     "data": {
      "text/plain": [
       "4695    13-Nov-1942\n",
       "2529    15-Oct-1992\n",
       "4884    19-Mar-1936\n",
       "1590    02-May-2005\n",
       "1208    06-Sep-2008\n",
       "5771    09-Apr-1885\n",
       "3259    16-Aug-1974\n",
       "6294    Before 1906\n",
       "5542    01-Dec-1901\n",
       "2340    19-Sep-1995\n",
       "4219           1957\n",
       "2357    15-Aug-1995\n",
       "6107      Ca . 1825\n",
       "4306    01-Feb-1955\n",
       "1608    05-Mar-2005\n",
       "2779    08-May-1987\n",
       "3999    12-Apr-1960\n",
       "6120    15-Sep-1810\n",
       "1016    02-Jul-2010\n",
       "3971    22-Aug-1960\n",
       "Name: Date, dtype: object"
      ]
     },
     "execution_count": 25,
     "metadata": {},
     "output_type": "execute_result"
    }
   ],
   "source": [
    "attacks['Date'].sample(20)"
   ]
  },
  {
   "cell_type": "code",
   "execution_count": 26,
   "metadata": {},
   "outputs": [],
   "source": [
    "attacks['Date'] = attacks['Date'].str.upper()\n",
    "attacks['Date'] = attacks['Date'].str.lstrip('REPORTED ')\n",
    "attacks['Date'] = pd.to_datetime(attacks['Date'],errors='coerce', format='%d-%b-%Y')"
   ]
  },
  {
   "cell_type": "code",
   "execution_count": 27,
   "metadata": {
    "scrolled": false
   },
   "outputs": [
    {
     "data": {
      "text/plain": [
       "5524   1903-01-10\n",
       "3146   1977-06-06\n",
       "4302   1955-02-10\n",
       "2450   1994-02-13\n",
       "2388   1995-05-18\n",
       "6008   1853-07-13\n",
       "1054   2010-01-09\n",
       "1151   2009-03-02\n",
       "2331   1995-11-25\n",
       "4732   1941-12-03\n",
       "248    2016-07-14\n",
       "4569   1947-10-10\n",
       "5528   1902-11-10\n",
       "424    2015-05-15\n",
       "3184   1976-06-01\n",
       "209    2016-10-02\n",
       "3593   1966-01-10\n",
       "1974   2001-02-26\n",
       "3268   1974-04-20\n",
       "1394   2007-03-22\n",
       "Name: Date, dtype: datetime64[ns]"
      ]
     },
     "execution_count": 27,
     "metadata": {},
     "output_type": "execute_result"
    }
   ],
   "source": [
    "attacks.loc[attacks['Date'].notnull(),'Date'].sample(20)"
   ]
  },
  {
   "cell_type": "markdown",
   "metadata": {},
   "source": [
    "## Time"
   ]
  },
  {
   "cell_type": "code",
   "execution_count": 28,
   "metadata": {},
   "outputs": [
    {
     "data": {
      "text/plain": [
       "1942    shortly before 13h00\n",
       "1907                   18h00\n",
       "416                    10h50\n",
       "863                    10h00\n",
       "489                    17h20\n",
       "121                    15h30\n",
       "1387                   12h30\n",
       "857                afternoon\n",
       "3512                   14h30\n",
       "3460                   17h00\n",
       "1620                   13h00\n",
       "5934                   09h00\n",
       "1588                   11h00\n",
       "2992          prior to 10h37\n",
       "2891                   18h00\n",
       "3807                   16h30\n",
       "921                   midday\n",
       "5952                 evening\n",
       "154                afternoon\n",
       "2954                   18h15\n",
       "Name: Time, dtype: object"
      ]
     },
     "execution_count": 28,
     "metadata": {},
     "output_type": "execute_result"
    }
   ],
   "source": [
    "attacks['Time'] = attacks['Time'].str.strip()\n",
    "attacks['Time'] = attacks['Time'].str.lower()\n",
    "attacks.loc[attacks['Time'].notnull(),'Time'].sample(20)"
   ]
  },
  {
   "cell_type": "code",
   "execution_count": 29,
   "metadata": {},
   "outputs": [
    {
     "data": {
      "text/plain": [
       "afternoon    187\n",
       "morning      122\n",
       "night         63\n",
       "evening       34\n",
       "dusk          16\n",
       "midday        10\n",
       "sunset         4\n",
       "midnight       4\n",
       "dawn           2\n",
       "dark           2\n",
       "lunchtime      1\n",
       "daybreak       1\n",
       "nightfall      1\n",
       "noon           1\n",
       "daytime        1\n",
       "Name: Time, dtype: int64"
      ]
     },
     "execution_count": 29,
     "metadata": {},
     "output_type": "execute_result"
    }
   ],
   "source": [
    "attacks.loc[(attacks['Time'].notnull()) & (attacks['Time'].str.fullmatch('[a-zA-Z]{3,}')),'Time'].value_counts()"
   ]
  },
  {
   "cell_type": "code",
   "execution_count": 30,
   "metadata": {
    "code_folding": [],
    "scrolled": true
   },
   "outputs": [],
   "source": [
    "attacks['Time'].replace(['.*evening.*','.*dusk.*',\n",
    "                         '.*dark.*','.*night.*'],'night',regex=True,inplace=True)\n",
    "\n",
    "attacks['Time'].replace(['pm','p\\.m\\.','.*midday.*','.*sunset.*','.*lunchtime.*',\n",
    "                         '.*noon.*','.*daytime.*','.*afternoon.*'],'afternoon',regex=True,inplace=True)\n",
    "\n",
    "attacks['Time'].replace(['a\\.m\\.''am','.*dawn.*',\n",
    "                         '.*daybreak.*','.*morning.*'],'day-morning',regex=True,inplace=True)"
   ]
  },
  {
   "cell_type": "code",
   "execution_count": 31,
   "metadata": {},
   "outputs": [
    {
     "data": {
      "text/plain": [
       "afternoon    271\n",
       "night        131\n",
       "11h00        128\n",
       "12h00        109\n",
       "15h00        108\n",
       "            ... \n",
       "11h58          1\n",
       "12h46          1\n",
       "12h55          1\n",
       "01h30          1\n",
       "06h10          1\n",
       "Name: Time, Length: 252, dtype: int64"
      ]
     },
     "execution_count": 31,
     "metadata": {},
     "output_type": "execute_result"
    }
   ],
   "source": [
    "attacks.loc[(attacks['Time'].notnull()) & (attacks['Time'].str.fullmatch('\\w{3,}')),'Time'].value_counts()"
   ]
  },
  {
   "cell_type": "code",
   "execution_count": 32,
   "metadata": {},
   "outputs": [],
   "source": [
    "#grouping 06:00 to 11:59 as day-morning because english is weird\n",
    "attacks['Time'].replace(to_replace='.*0[6-9].?\\d{2}.*',value='day-morning',regex=True,inplace=True)\n",
    "attacks['Time'].replace(to_replace='.*1[0-1].?\\d{2}.*',value='day-morning',regex=True,inplace=True)\n",
    "#grouping 12:00 to 17:59 as afternoon\n",
    "attacks['Time'].replace(to_replace='.*1[2-7].?\\d{2}.*',value='afternoon',regex=True,inplace=True)\n",
    "#grouping 18:00 to 23:59 as night\n",
    "attacks['Time'].replace(to_replace='.*1[8-9].?\\d{2}.*',value='night',regex=True,inplace=True)\n",
    "attacks['Time'].replace(to_replace='.*2[0-3].?\\d{2}.*',value='night',regex=True,inplace=True)\n",
    "#grouping 00:00 to 05:59 as night-morning because english is weird\n",
    "attacks['Time'].replace(to_replace='.*0[0-5].?\\d{2}.*',value='night-morning',regex=True,inplace=True)"
   ]
  },
  {
   "cell_type": "code",
   "execution_count": 33,
   "metadata": {},
   "outputs": [
    {
     "data": {
      "text/plain": [
       "32"
      ]
     },
     "execution_count": 33,
     "metadata": {},
     "output_type": "execute_result"
    }
   ],
   "source": [
    "attacks[~attacks['Time'].isin(['day-morning','night-morning','night','afternoon'])]['Time'].count()"
   ]
  },
  {
   "cell_type": "code",
   "execution_count": 34,
   "metadata": {},
   "outputs": [],
   "source": [
    "attacks.loc[~attacks['Time'].isin(['day-morning','night-morning','night','afternoon']),'Time'] = np.nan"
   ]
  },
  {
   "cell_type": "code",
   "execution_count": 35,
   "metadata": {},
   "outputs": [
    {
     "data": {
      "text/plain": [
       "NaN              3386\n",
       "afternoon        1593\n",
       "day-morning       923\n",
       "night             359\n",
       "night-morning      41\n",
       "Name: Time, dtype: int64"
      ]
     },
     "execution_count": 35,
     "metadata": {},
     "output_type": "execute_result"
    }
   ],
   "source": [
    "attacks['Time'].value_counts(dropna=False)"
   ]
  },
  {
   "cell_type": "markdown",
   "metadata": {},
   "source": [
    "## Country"
   ]
  },
  {
   "cell_type": "code",
   "execution_count": 36,
   "metadata": {},
   "outputs": [
    {
     "data": {
      "text/plain": [
       "USA                 2229\n",
       "AUSTRALIA           1338\n",
       "SOUTH AFRICA         579\n",
       "PAPUA NEW GUINEA     134\n",
       "NEW ZEALAND          128\n",
       "BRAZIL               112\n",
       "BAHAMAS              109\n",
       "MEXICO                89\n",
       "ITALY                 71\n",
       "FIJI                  62\n",
       "PHILIPPINES           61\n",
       "REUNION               60\n",
       "NEW CALEDONIA         53\n",
       "CUBA                  46\n",
       "MOZAMBIQUE            45\n",
       "SPAIN                 44\n",
       "INDIA                 40\n",
       "EGYPT                 38\n",
       "JAPAN                 34\n",
       "CROATIA               34\n",
       "Name: Country, dtype: int64"
      ]
     },
     "execution_count": 36,
     "metadata": {},
     "output_type": "execute_result"
    }
   ],
   "source": [
    "attacks['Country'].value_counts().head(20)"
   ]
  },
  {
   "cell_type": "code",
   "execution_count": 37,
   "metadata": {
    "scrolled": true
   },
   "outputs": [
    {
     "data": {
      "text/plain": [
       "USA                 2229\n",
       "AUSTRALIA           1338\n",
       "SOUTH AFRICA         579\n",
       "PAPUA NEW GUINEA     134\n",
       "NEW ZEALAND          128\n",
       "BRAZIL               112\n",
       "BAHAMAS              109\n",
       "MEXICO                90\n",
       "ITALY                 71\n",
       "FIJI                  65\n",
       "PHILIPPINES           62\n",
       "REUNION               60\n",
       "NEW CALEDONIA         53\n",
       "CUBA                  46\n",
       "MOZAMBIQUE            45\n",
       "SPAIN                 44\n",
       "INDIA                 40\n",
       "EGYPT                 40\n",
       "JAPAN                 34\n",
       "CROATIA               34\n",
       "Name: Country, dtype: int64"
      ]
     },
     "execution_count": 37,
     "metadata": {},
     "output_type": "execute_result"
    }
   ],
   "source": [
    "attacks['Country'] = attacks['Country'].str.strip()\n",
    "attacks['Country'] = attacks['Country'].str.upper()\n",
    "attacks['Country'].replace(to_replace=['.*OCEAN','.* SEA'],value=np.nan,regex=True,inplace=True)\n",
    "attacks['Country'].replace(['BETWEEN PORTUGAL & INDIA','IRAN / IRAQ','EGYPT / ISRAEL','RED SEA?'],np.nan,inplace=True)\n",
    "attacks['Country'].replace('EQUATORIAL GUINEA / CAMEROON','EQUATORIAL GUINEA',inplace=True)\n",
    "attacks['Country'].replace('CEYLON (SRI LANKA)','SRI LANKA',inplace=True)\n",
    "attacks['Country'].replace('UNITED ARAB EMIRATES (UAE)','UNITED ARAB EMIRATES',inplace=True)\n",
    "attacks['Country'].value_counts().head(20)"
   ]
  },
  {
   "cell_type": "markdown",
   "metadata": {},
   "source": [
    "## Area"
   ]
  },
  {
   "cell_type": "code",
   "execution_count": 38,
   "metadata": {},
   "outputs": [
    {
     "data": {
      "text/plain": [
       "FLORIDA                         1038\n",
       "NEW SOUTH WALES                  486\n",
       "QUEENSLAND                       312\n",
       "HAWAII                           298\n",
       "CALIFORNIA                       290\n",
       "KWAZULU-NATAL                    213\n",
       "WESTERN CAPE PROVINCE            195\n",
       "WESTERN AUSTRALIA                189\n",
       "SOUTH CAROLINA                   161\n",
       "EASTERN CAPE PROVINCE            160\n",
       "SOUTH AUSTRALIA                  104\n",
       "NORTH CAROLINA                   104\n",
       "VICTORIA                          92\n",
       "PERNAMBUCO                        74\n",
       "TEXAS                             73\n",
       "TORRES STRAIT                     72\n",
       "NORTH ISLAND                      67\n",
       "NEW JERSEY                        53\n",
       "TASMANIA                          41\n",
       "SOUTH ISLAND                      40\n",
       "NEW YORK                          33\n",
       "OREGON                            29\n",
       "NORTHERN TERRITORY                23\n",
       "ABACO ISLANDS                     23\n",
       "CENTRAL PROVINCE                  22\n",
       "VIRGINIA                          19\n",
       "HAVANA PROVINCE                   19\n",
       "VERACRUZ                          17\n",
       "SOUTH PROVINCE                    17\n",
       "PUERTO RICO                       16\n",
       "MASSACHUSETTS                     16\n",
       "GAZA                              16\n",
       "MADANG PROVINCE                   16\n",
       "ALABAMA                           15\n",
       "NEW IRELAND PROVINCE              15\n",
       "GEORGIA                           14\n",
       "KHUZESTAN PROVINCE                13\n",
       "PRIMORJE-GORSKI KOTAR COUNTY      13\n",
       "LUZON ISLAND                      13\n",
       "GUERRERO                          13\n",
       "QUINTANA ROO                      12\n",
       "NORTH PROVINCE                    12\n",
       "ADRIATIC SEA                      12\n",
       "MALAMPA PROVINCE                  11\n",
       "RIO DE JANEIRO                    11\n",
       "LOUISIANA                         11\n",
       "MEDITERRANEAN SEA                 11\n",
       "TYRRHENIAN SEA                    11\n",
       "GRAND BAHAMA ISLAND               10\n",
       "BAJA CALIFORNIA                   10\n",
       "Name: Area, dtype: int64"
      ]
     },
     "execution_count": 38,
     "metadata": {},
     "output_type": "execute_result"
    }
   ],
   "source": [
    "attacks['Area'] = attacks['Area'].str.strip()\n",
    "attacks['Area'] = attacks['Area'].str.upper()\n",
    "attacks['Area'].value_counts().head(50)"
   ]
  },
  {
   "cell_type": "markdown",
   "metadata": {},
   "source": [
    "# Adding temperature by country"
   ]
  },
  {
   "cell_type": "markdown",
   "metadata": {},
   "source": [
    "## Add new dataset with temperatures by country"
   ]
  },
  {
   "cell_type": "code",
   "execution_count": 39,
   "metadata": {
    "scrolled": true
   },
   "outputs": [
    {
     "data": {
      "text/html": [
       "<div>\n",
       "<style scoped>\n",
       "    .dataframe tbody tr th:only-of-type {\n",
       "        vertical-align: middle;\n",
       "    }\n",
       "\n",
       "    .dataframe tbody tr th {\n",
       "        vertical-align: top;\n",
       "    }\n",
       "\n",
       "    .dataframe thead th {\n",
       "        text-align: right;\n",
       "    }\n",
       "</style>\n",
       "<table border=\"1\" class=\"dataframe\">\n",
       "  <thead>\n",
       "    <tr style=\"text-align: right;\">\n",
       "      <th></th>\n",
       "      <th>Region</th>\n",
       "      <th>Country</th>\n",
       "      <th>State</th>\n",
       "      <th>City</th>\n",
       "      <th>Month</th>\n",
       "      <th>Day</th>\n",
       "      <th>Year</th>\n",
       "      <th>AvgTemperature</th>\n",
       "    </tr>\n",
       "  </thead>\n",
       "  <tbody>\n",
       "    <tr>\n",
       "      <th>0</th>\n",
       "      <td>Africa</td>\n",
       "      <td>ALGERIA</td>\n",
       "      <td>NaN</td>\n",
       "      <td>Algiers</td>\n",
       "      <td>1</td>\n",
       "      <td>1</td>\n",
       "      <td>1995</td>\n",
       "      <td>17.10</td>\n",
       "    </tr>\n",
       "    <tr>\n",
       "      <th>1</th>\n",
       "      <td>Africa</td>\n",
       "      <td>ALGERIA</td>\n",
       "      <td>NaN</td>\n",
       "      <td>Algiers</td>\n",
       "      <td>1</td>\n",
       "      <td>2</td>\n",
       "      <td>1995</td>\n",
       "      <td>9.70</td>\n",
       "    </tr>\n",
       "    <tr>\n",
       "      <th>2</th>\n",
       "      <td>Africa</td>\n",
       "      <td>ALGERIA</td>\n",
       "      <td>NaN</td>\n",
       "      <td>Algiers</td>\n",
       "      <td>1</td>\n",
       "      <td>3</td>\n",
       "      <td>1995</td>\n",
       "      <td>9.40</td>\n",
       "    </tr>\n",
       "    <tr>\n",
       "      <th>3</th>\n",
       "      <td>Africa</td>\n",
       "      <td>ALGERIA</td>\n",
       "      <td>NaN</td>\n",
       "      <td>Algiers</td>\n",
       "      <td>1</td>\n",
       "      <td>4</td>\n",
       "      <td>1995</td>\n",
       "      <td>8.20</td>\n",
       "    </tr>\n",
       "    <tr>\n",
       "      <th>4</th>\n",
       "      <td>Africa</td>\n",
       "      <td>ALGERIA</td>\n",
       "      <td>NaN</td>\n",
       "      <td>Algiers</td>\n",
       "      <td>1</td>\n",
       "      <td>5</td>\n",
       "      <td>1995</td>\n",
       "      <td>8.95</td>\n",
       "    </tr>\n",
       "    <tr>\n",
       "      <th>...</th>\n",
       "      <td>...</td>\n",
       "      <td>...</td>\n",
       "      <td>...</td>\n",
       "      <td>...</td>\n",
       "      <td>...</td>\n",
       "      <td>...</td>\n",
       "      <td>...</td>\n",
       "      <td>...</td>\n",
       "    </tr>\n",
       "    <tr>\n",
       "      <th>2906322</th>\n",
       "      <td>North America</td>\n",
       "      <td>USA</td>\n",
       "      <td>Additional Territories</td>\n",
       "      <td>San Juan Puerto Rico</td>\n",
       "      <td>7</td>\n",
       "      <td>27</td>\n",
       "      <td>2013</td>\n",
       "      <td>26.20</td>\n",
       "    </tr>\n",
       "    <tr>\n",
       "      <th>2906323</th>\n",
       "      <td>North America</td>\n",
       "      <td>USA</td>\n",
       "      <td>Additional Territories</td>\n",
       "      <td>San Juan Puerto Rico</td>\n",
       "      <td>7</td>\n",
       "      <td>28</td>\n",
       "      <td>2013</td>\n",
       "      <td>25.80</td>\n",
       "    </tr>\n",
       "    <tr>\n",
       "      <th>2906324</th>\n",
       "      <td>North America</td>\n",
       "      <td>USA</td>\n",
       "      <td>Additional Territories</td>\n",
       "      <td>San Juan Puerto Rico</td>\n",
       "      <td>7</td>\n",
       "      <td>29</td>\n",
       "      <td>2013</td>\n",
       "      <td>27.10</td>\n",
       "    </tr>\n",
       "    <tr>\n",
       "      <th>2906325</th>\n",
       "      <td>North America</td>\n",
       "      <td>USA</td>\n",
       "      <td>Additional Territories</td>\n",
       "      <td>San Juan Puerto Rico</td>\n",
       "      <td>7</td>\n",
       "      <td>30</td>\n",
       "      <td>2013</td>\n",
       "      <td>26.90</td>\n",
       "    </tr>\n",
       "    <tr>\n",
       "      <th>2906326</th>\n",
       "      <td>North America</td>\n",
       "      <td>USA</td>\n",
       "      <td>Additional Territories</td>\n",
       "      <td>San Juan Puerto Rico</td>\n",
       "      <td>7</td>\n",
       "      <td>31</td>\n",
       "      <td>2013</td>\n",
       "      <td>26.80</td>\n",
       "    </tr>\n",
       "  </tbody>\n",
       "</table>\n",
       "<p>2906327 rows × 8 columns</p>\n",
       "</div>"
      ],
      "text/plain": [
       "                Region  Country                   State                  City  \\\n",
       "0               Africa  ALGERIA                     NaN               Algiers   \n",
       "1               Africa  ALGERIA                     NaN               Algiers   \n",
       "2               Africa  ALGERIA                     NaN               Algiers   \n",
       "3               Africa  ALGERIA                     NaN               Algiers   \n",
       "4               Africa  ALGERIA                     NaN               Algiers   \n",
       "...                ...      ...                     ...                   ...   \n",
       "2906322  North America      USA  Additional Territories  San Juan Puerto Rico   \n",
       "2906323  North America      USA  Additional Territories  San Juan Puerto Rico   \n",
       "2906324  North America      USA  Additional Territories  San Juan Puerto Rico   \n",
       "2906325  North America      USA  Additional Territories  San Juan Puerto Rico   \n",
       "2906326  North America      USA  Additional Territories  San Juan Puerto Rico   \n",
       "\n",
       "         Month  Day  Year  AvgTemperature  \n",
       "0            1    1  1995           17.10  \n",
       "1            1    2  1995            9.70  \n",
       "2            1    3  1995            9.40  \n",
       "3            1    4  1995            8.20  \n",
       "4            1    5  1995            8.95  \n",
       "...        ...  ...   ...             ...  \n",
       "2906322      7   27  2013           26.20  \n",
       "2906323      7   28  2013           25.80  \n",
       "2906324      7   29  2013           27.10  \n",
       "2906325      7   30  2013           26.90  \n",
       "2906326      7   31  2013           26.80  \n",
       "\n",
       "[2906327 rows x 8 columns]"
      ]
     },
     "execution_count": 39,
     "metadata": {},
     "output_type": "execute_result"
    }
   ],
   "source": [
    "#dataset download: https://www.kaggle.com/sudalairajkumar/daily-temperature-of-major-cities\n",
    "temperatures = pd.read_csv('data/city_temperature.csv',\n",
    "                           dtype={'Region': str, 'Country': str, 'State': str, 'City': str, 'Year': np.int32, 'Month': np.int32, 'Day': np.int32, 'AvgTemperature': np.float64})\n",
    "temperatures['Country'] = temperatures['Country'].str.upper()\n",
    "temperatures['Country'] = temperatures['Country'].str.strip()\n",
    "temperatures['Country'].replace('US','USA',inplace=True)\n",
    "temperatures['AvgTemperature'].replace(-99,np.nan,inplace=True) #nulls come as -99\n",
    "temperatures['AvgTemperature'] = (temperatures['AvgTemperature'] - 30) / 2 #convert to celsius\n",
    "temperatures"
   ]
  },
  {
   "cell_type": "markdown",
   "metadata": {},
   "source": [
    "## Aggregating temperatures by country and year"
   ]
  },
  {
   "cell_type": "code",
   "execution_count": 40,
   "metadata": {},
   "outputs": [],
   "source": [
    "temps = temperatures.groupby(['Country','Year'],as_index=False).agg(avg_temp = ('AvgTemperature','mean'), median_temp = ('AvgTemperature', 'median'), max_temp = ('AvgTemperature', 'max'))\n",
    "temps.to_csv('data/temps.csv')"
   ]
  },
  {
   "cell_type": "markdown",
   "metadata": {},
   "source": [
    "## Merging both datasets"
   ]
  },
  {
   "cell_type": "code",
   "execution_count": 41,
   "metadata": {
    "scrolled": true
   },
   "outputs": [],
   "source": [
    "attacks_country_temp = pd.merge(attacks,temps,on=['Country','Year'],how='left')"
   ]
  },
  {
   "cell_type": "markdown",
   "metadata": {},
   "source": [
    "# Conclusions"
   ]
  },
  {
   "cell_type": "code",
   "execution_count": 42,
   "metadata": {},
   "outputs": [],
   "source": [
    "#full_report = ProfileReport(attacks_country_temp)\n",
    "#full_report.to_file('reports/full_report.html')"
   ]
  },
  {
   "cell_type": "code",
   "execution_count": 43,
   "metadata": {
    "scrolled": true
   },
   "outputs": [],
   "source": [
    "attacks_by_cy = attacks_country_temp[attacks_country_temp['avg_temp'].notnull()].groupby(['Country','Year','max_temp','median_temp','avg_temp'],\n",
    "                                                                           as_index=False).agg(number = ('max_temp', 'count'))"
   ]
  },
  {
   "cell_type": "markdown",
   "metadata": {},
   "source": [
    "## Correlation by temperature and year"
   ]
  },
  {
   "cell_type": "code",
   "execution_count": 44,
   "metadata": {
    "scrolled": true
   },
   "outputs": [
    {
     "data": {
      "text/html": [
       "<div>\n",
       "<style scoped>\n",
       "    .dataframe tbody tr th:only-of-type {\n",
       "        vertical-align: middle;\n",
       "    }\n",
       "\n",
       "    .dataframe tbody tr th {\n",
       "        vertical-align: top;\n",
       "    }\n",
       "\n",
       "    .dataframe thead th {\n",
       "        text-align: right;\n",
       "    }\n",
       "</style>\n",
       "<table border=\"1\" class=\"dataframe\">\n",
       "  <thead>\n",
       "    <tr style=\"text-align: right;\">\n",
       "      <th></th>\n",
       "      <th>Year</th>\n",
       "      <th>max_temp</th>\n",
       "      <th>median_temp</th>\n",
       "      <th>avg_temp</th>\n",
       "    </tr>\n",
       "  </thead>\n",
       "  <tbody>\n",
       "    <tr>\n",
       "      <th>Year</th>\n",
       "      <td>1.000000</td>\n",
       "      <td>0.087513</td>\n",
       "      <td>0.084496</td>\n",
       "      <td>0.088113</td>\n",
       "    </tr>\n",
       "    <tr>\n",
       "      <th>max_temp</th>\n",
       "      <td>0.087513</td>\n",
       "      <td>1.000000</td>\n",
       "      <td>0.198585</td>\n",
       "      <td>0.153631</td>\n",
       "    </tr>\n",
       "    <tr>\n",
       "      <th>median_temp</th>\n",
       "      <td>0.084496</td>\n",
       "      <td>0.198585</td>\n",
       "      <td>1.000000</td>\n",
       "      <td>0.993841</td>\n",
       "    </tr>\n",
       "    <tr>\n",
       "      <th>avg_temp</th>\n",
       "      <td>0.088113</td>\n",
       "      <td>0.153631</td>\n",
       "      <td>0.993841</td>\n",
       "      <td>1.000000</td>\n",
       "    </tr>\n",
       "    <tr>\n",
       "      <th>number</th>\n",
       "      <td>0.020974</td>\n",
       "      <td>0.578751</td>\n",
       "      <td>-0.322988</td>\n",
       "      <td>-0.367387</td>\n",
       "    </tr>\n",
       "  </tbody>\n",
       "</table>\n",
       "</div>"
      ],
      "text/plain": [
       "                 Year  max_temp  median_temp  avg_temp\n",
       "Year         1.000000  0.087513     0.084496  0.088113\n",
       "max_temp     0.087513  1.000000     0.198585  0.153631\n",
       "median_temp  0.084496  0.198585     1.000000  0.993841\n",
       "avg_temp     0.088113  0.153631     0.993841  1.000000\n",
       "number       0.020974  0.578751    -0.322988 -0.367387"
      ]
     },
     "execution_count": 44,
     "metadata": {},
     "output_type": "execute_result"
    }
   ],
   "source": [
    "attacks_by_cy.corr().iloc[:5,:4]"
   ]
  },
  {
   "cell_type": "markdown",
   "metadata": {},
   "source": [
    "### USA"
   ]
  },
  {
   "cell_type": "code",
   "execution_count": 45,
   "metadata": {},
   "outputs": [
    {
     "data": {
      "text/html": [
       "<div>\n",
       "<style scoped>\n",
       "    .dataframe tbody tr th:only-of-type {\n",
       "        vertical-align: middle;\n",
       "    }\n",
       "\n",
       "    .dataframe tbody tr th {\n",
       "        vertical-align: top;\n",
       "    }\n",
       "\n",
       "    .dataframe thead th {\n",
       "        text-align: right;\n",
       "    }\n",
       "</style>\n",
       "<table border=\"1\" class=\"dataframe\">\n",
       "  <thead>\n",
       "    <tr style=\"text-align: right;\">\n",
       "      <th></th>\n",
       "      <th>Year</th>\n",
       "      <th>max_temp</th>\n",
       "      <th>median_temp</th>\n",
       "      <th>avg_temp</th>\n",
       "    </tr>\n",
       "  </thead>\n",
       "  <tbody>\n",
       "    <tr>\n",
       "      <th>Year</th>\n",
       "      <td>1.000000</td>\n",
       "      <td>0.453210</td>\n",
       "      <td>0.611918</td>\n",
       "      <td>0.415605</td>\n",
       "    </tr>\n",
       "    <tr>\n",
       "      <th>max_temp</th>\n",
       "      <td>0.453210</td>\n",
       "      <td>1.000000</td>\n",
       "      <td>0.452817</td>\n",
       "      <td>0.347630</td>\n",
       "    </tr>\n",
       "    <tr>\n",
       "      <th>median_temp</th>\n",
       "      <td>0.611918</td>\n",
       "      <td>0.452817</td>\n",
       "      <td>1.000000</td>\n",
       "      <td>0.810382</td>\n",
       "    </tr>\n",
       "    <tr>\n",
       "      <th>avg_temp</th>\n",
       "      <td>0.415605</td>\n",
       "      <td>0.347630</td>\n",
       "      <td>0.810382</td>\n",
       "      <td>1.000000</td>\n",
       "    </tr>\n",
       "    <tr>\n",
       "      <th>number</th>\n",
       "      <td>0.376775</td>\n",
       "      <td>0.402628</td>\n",
       "      <td>0.497183</td>\n",
       "      <td>0.277862</td>\n",
       "    </tr>\n",
       "  </tbody>\n",
       "</table>\n",
       "</div>"
      ],
      "text/plain": [
       "                 Year  max_temp  median_temp  avg_temp\n",
       "Year         1.000000  0.453210     0.611918  0.415605\n",
       "max_temp     0.453210  1.000000     0.452817  0.347630\n",
       "median_temp  0.611918  0.452817     1.000000  0.810382\n",
       "avg_temp     0.415605  0.347630     0.810382  1.000000\n",
       "number       0.376775  0.402628     0.497183  0.277862"
      ]
     },
     "execution_count": 45,
     "metadata": {},
     "output_type": "execute_result"
    }
   ],
   "source": [
    "attacks_by_cy[attacks_by_cy['Country'] == 'USA'].corr().iloc[:5,:4]"
   ]
  },
  {
   "cell_type": "markdown",
   "metadata": {},
   "source": [
    "### Australia"
   ]
  },
  {
   "cell_type": "code",
   "execution_count": 46,
   "metadata": {},
   "outputs": [
    {
     "data": {
      "text/html": [
       "<div>\n",
       "<style scoped>\n",
       "    .dataframe tbody tr th:only-of-type {\n",
       "        vertical-align: middle;\n",
       "    }\n",
       "\n",
       "    .dataframe tbody tr th {\n",
       "        vertical-align: top;\n",
       "    }\n",
       "\n",
       "    .dataframe thead th {\n",
       "        text-align: right;\n",
       "    }\n",
       "</style>\n",
       "<table border=\"1\" class=\"dataframe\">\n",
       "  <thead>\n",
       "    <tr style=\"text-align: right;\">\n",
       "      <th></th>\n",
       "      <th>Year</th>\n",
       "      <th>max_temp</th>\n",
       "      <th>median_temp</th>\n",
       "      <th>avg_temp</th>\n",
       "    </tr>\n",
       "  </thead>\n",
       "  <tbody>\n",
       "    <tr>\n",
       "      <th>Year</th>\n",
       "      <td>1.000000</td>\n",
       "      <td>0.305441</td>\n",
       "      <td>0.807577</td>\n",
       "      <td>0.804839</td>\n",
       "    </tr>\n",
       "    <tr>\n",
       "      <th>max_temp</th>\n",
       "      <td>0.305441</td>\n",
       "      <td>1.000000</td>\n",
       "      <td>0.392914</td>\n",
       "      <td>0.399139</td>\n",
       "    </tr>\n",
       "    <tr>\n",
       "      <th>median_temp</th>\n",
       "      <td>0.807577</td>\n",
       "      <td>0.392914</td>\n",
       "      <td>1.000000</td>\n",
       "      <td>0.960049</td>\n",
       "    </tr>\n",
       "    <tr>\n",
       "      <th>avg_temp</th>\n",
       "      <td>0.804839</td>\n",
       "      <td>0.399139</td>\n",
       "      <td>0.960049</td>\n",
       "      <td>1.000000</td>\n",
       "    </tr>\n",
       "    <tr>\n",
       "      <th>number</th>\n",
       "      <td>0.841498</td>\n",
       "      <td>0.459499</td>\n",
       "      <td>0.670071</td>\n",
       "      <td>0.665683</td>\n",
       "    </tr>\n",
       "  </tbody>\n",
       "</table>\n",
       "</div>"
      ],
      "text/plain": [
       "                 Year  max_temp  median_temp  avg_temp\n",
       "Year         1.000000  0.305441     0.807577  0.804839\n",
       "max_temp     0.305441  1.000000     0.392914  0.399139\n",
       "median_temp  0.807577  0.392914     1.000000  0.960049\n",
       "avg_temp     0.804839  0.399139     0.960049  1.000000\n",
       "number       0.841498  0.459499     0.670071  0.665683"
      ]
     },
     "execution_count": 46,
     "metadata": {},
     "output_type": "execute_result"
    }
   ],
   "source": [
    "attacks_by_cy[attacks_by_cy['Country'] == 'AUSTRALIA'].corr().iloc[:5,:4]"
   ]
  },
  {
   "cell_type": "markdown",
   "metadata": {},
   "source": [
    "### South Africa"
   ]
  },
  {
   "cell_type": "code",
   "execution_count": 47,
   "metadata": {},
   "outputs": [
    {
     "data": {
      "text/html": [
       "<div>\n",
       "<style scoped>\n",
       "    .dataframe tbody tr th:only-of-type {\n",
       "        vertical-align: middle;\n",
       "    }\n",
       "\n",
       "    .dataframe tbody tr th {\n",
       "        vertical-align: top;\n",
       "    }\n",
       "\n",
       "    .dataframe thead th {\n",
       "        text-align: right;\n",
       "    }\n",
       "</style>\n",
       "<table border=\"1\" class=\"dataframe\">\n",
       "  <thead>\n",
       "    <tr style=\"text-align: right;\">\n",
       "      <th></th>\n",
       "      <th>Year</th>\n",
       "      <th>max_temp</th>\n",
       "      <th>median_temp</th>\n",
       "      <th>avg_temp</th>\n",
       "    </tr>\n",
       "  </thead>\n",
       "  <tbody>\n",
       "    <tr>\n",
       "      <th>Year</th>\n",
       "      <td>1.000000</td>\n",
       "      <td>0.674573</td>\n",
       "      <td>0.587306</td>\n",
       "      <td>0.711466</td>\n",
       "    </tr>\n",
       "    <tr>\n",
       "      <th>max_temp</th>\n",
       "      <td>0.674573</td>\n",
       "      <td>1.000000</td>\n",
       "      <td>0.472851</td>\n",
       "      <td>0.653795</td>\n",
       "    </tr>\n",
       "    <tr>\n",
       "      <th>median_temp</th>\n",
       "      <td>0.587306</td>\n",
       "      <td>0.472851</td>\n",
       "      <td>1.000000</td>\n",
       "      <td>0.863464</td>\n",
       "    </tr>\n",
       "    <tr>\n",
       "      <th>avg_temp</th>\n",
       "      <td>0.711466</td>\n",
       "      <td>0.653795</td>\n",
       "      <td>0.863464</td>\n",
       "      <td>1.000000</td>\n",
       "    </tr>\n",
       "    <tr>\n",
       "      <th>number</th>\n",
       "      <td>0.043982</td>\n",
       "      <td>0.232161</td>\n",
       "      <td>0.109889</td>\n",
       "      <td>0.117747</td>\n",
       "    </tr>\n",
       "  </tbody>\n",
       "</table>\n",
       "</div>"
      ],
      "text/plain": [
       "                 Year  max_temp  median_temp  avg_temp\n",
       "Year         1.000000  0.674573     0.587306  0.711466\n",
       "max_temp     0.674573  1.000000     0.472851  0.653795\n",
       "median_temp  0.587306  0.472851     1.000000  0.863464\n",
       "avg_temp     0.711466  0.653795     0.863464  1.000000\n",
       "number       0.043982  0.232161     0.109889  0.117747"
      ]
     },
     "execution_count": 47,
     "metadata": {},
     "output_type": "execute_result"
    }
   ],
   "source": [
    "attacks_by_cy[attacks_by_cy['Country'] == 'SOUTH AFRICA'].corr().iloc[:5,:4]"
   ]
  },
  {
   "cell_type": "markdown",
   "metadata": {},
   "source": [
    "## Numbers"
   ]
  },
  {
   "cell_type": "markdown",
   "metadata": {},
   "source": [
    "### By country"
   ]
  },
  {
   "cell_type": "code",
   "execution_count": 48,
   "metadata": {},
   "outputs": [
    {
     "data": {
      "text/html": [
       "<div>\n",
       "<style scoped>\n",
       "    .dataframe tbody tr th:only-of-type {\n",
       "        vertical-align: middle;\n",
       "    }\n",
       "\n",
       "    .dataframe tbody tr th {\n",
       "        vertical-align: top;\n",
       "    }\n",
       "\n",
       "    .dataframe thead th {\n",
       "        text-align: right;\n",
       "    }\n",
       "</style>\n",
       "<table border=\"1\" class=\"dataframe\">\n",
       "  <thead>\n",
       "    <tr style=\"text-align: right;\">\n",
       "      <th></th>\n",
       "      <th>name</th>\n",
       "      <th>attacks</th>\n",
       "    </tr>\n",
       "  </thead>\n",
       "  <tbody>\n",
       "    <tr>\n",
       "      <th>0</th>\n",
       "      <td>UNITED STATES OF AMERICA</td>\n",
       "      <td>2229</td>\n",
       "    </tr>\n",
       "    <tr>\n",
       "      <th>1</th>\n",
       "      <td>AUSTRALIA</td>\n",
       "      <td>1338</td>\n",
       "    </tr>\n",
       "    <tr>\n",
       "      <th>2</th>\n",
       "      <td>SOUTH AFRICA</td>\n",
       "      <td>579</td>\n",
       "    </tr>\n",
       "    <tr>\n",
       "      <th>3</th>\n",
       "      <td>PAPUA NEW GUINEA</td>\n",
       "      <td>134</td>\n",
       "    </tr>\n",
       "    <tr>\n",
       "      <th>4</th>\n",
       "      <td>NEW ZEALAND</td>\n",
       "      <td>128</td>\n",
       "    </tr>\n",
       "    <tr>\n",
       "      <th>5</th>\n",
       "      <td>BRAZIL</td>\n",
       "      <td>112</td>\n",
       "    </tr>\n",
       "    <tr>\n",
       "      <th>6</th>\n",
       "      <td>BAHAMAS</td>\n",
       "      <td>109</td>\n",
       "    </tr>\n",
       "    <tr>\n",
       "      <th>7</th>\n",
       "      <td>MEXICO</td>\n",
       "      <td>90</td>\n",
       "    </tr>\n",
       "    <tr>\n",
       "      <th>8</th>\n",
       "      <td>ITALY</td>\n",
       "      <td>71</td>\n",
       "    </tr>\n",
       "    <tr>\n",
       "      <th>9</th>\n",
       "      <td>FIJI</td>\n",
       "      <td>65</td>\n",
       "    </tr>\n",
       "  </tbody>\n",
       "</table>\n",
       "</div>"
      ],
      "text/plain": [
       "                       name  attacks\n",
       "0  UNITED STATES OF AMERICA     2229\n",
       "1                 AUSTRALIA     1338\n",
       "2              SOUTH AFRICA      579\n",
       "3          PAPUA NEW GUINEA      134\n",
       "4               NEW ZEALAND      128\n",
       "5                    BRAZIL      112\n",
       "6                   BAHAMAS      109\n",
       "7                    MEXICO       90\n",
       "8                     ITALY       71\n",
       "9                      FIJI       65"
      ]
     },
     "execution_count": 48,
     "metadata": {},
     "output_type": "execute_result"
    }
   ],
   "source": [
    "attacks_by_country = attacks_country_temp['Country'].value_counts().to_frame().reset_index()\n",
    "attacks_by_country.columns = ['name','attacks']\n",
    "attacks_by_country['name'].replace('USA','UNITED STATES OF AMERICA',inplace=True)\n",
    "attacks_by_country.head(10)"
   ]
  },
  {
   "cell_type": "code",
   "execution_count": 49,
   "metadata": {},
   "outputs": [],
   "source": [
    "world = gpd.read_file(gpd.datasets.get_path('naturalearth_lowres'))\n",
    "world = world[(world.pop_est>0) & (world.name!=\"Antarctica\")]\n",
    "world['name'] = world['name'].str.upper()\n",
    "world_attacks = pd.merge(world,attacks_by_country,on=['name'],how='left')"
   ]
  },
  {
   "cell_type": "code",
   "execution_count": 50,
   "metadata": {},
   "outputs": [],
   "source": [
    "world_attacks['attacks'].replace(np.nan,0,inplace=True)"
   ]
  },
  {
   "cell_type": "code",
   "execution_count": 51,
   "metadata": {
    "scrolled": true
   },
   "outputs": [
    {
     "data": {
      "text/plain": [
       "<AxesSubplot:>"
      ]
     },
     "execution_count": 51,
     "metadata": {},
     "output_type": "execute_result"
    },
    {
     "data": {
      "image/png": "[encoded data removed]",
      "text/plain": [
       "<Figure size 432x288 with 2 Axes>"
      ]
     },
     "metadata": {
      "needs_background": "light"
     },
     "output_type": "display_data"
    }
   ],
   "source": [
    "fig, ax = plt.subplots(1, 1)\n",
    "world_attacks.plot(column='attacks',\n",
    "           ax=ax,\n",
    "           legend=True,cmap='inferno',\n",
    "           legend_kwds={'label': \"Shark attacks by country\",\n",
    "                        'orientation': \"horizontal\"},figsize=(15, 10))"
   ]
  },
  {
   "cell_type": "code",
   "execution_count": 52,
   "metadata": {},
   "outputs": [
    {
     "data": {
      "text/plain": [
       "<AxesSubplot:>"
      ]
     },
     "execution_count": 52,
     "metadata": {},
     "output_type": "execute_result"
    },
    {
     "data": {
      "image/png": "[encoded data removed]",
      "text/plain": [
       "<Figure size 432x288 with 2 Axes>"
      ]
     },
     "metadata": {
      "needs_background": "light"
     },
     "output_type": "display_data"
    }
   ],
   "source": [
    "wa_minus_top3 = world_attacks.copy()\n",
    "wa_minus_top3.loc[wa_minus_top3['name'].isin(['UNITED STATES OF AMERICA','AUSTRALIA','SOUTH AFRICA']),'attacks'] = 0\n",
    "fig, ax = plt.subplots(1, 1)\n",
    "wa_minus_top3.plot(column='attacks',\n",
    "           ax=ax,\n",
    "           legend=True,cmap='inferno',figsize=(15, 10),\n",
    "           legend_kwds={'label': \"Shark attacks by country excluding USA, Australia and South Africa\",\n",
    "                        'orientation': \"horizontal\"})"
   ]
  },
  {
   "cell_type": "markdown",
   "metadata": {},
   "source": [
    "### By sex"
   ]
  },
  {
   "cell_type": "code",
   "execution_count": 53,
   "metadata": {},
   "outputs": [
    {
     "data": {
      "text/plain": [
       "5733"
      ]
     },
     "execution_count": 53,
     "metadata": {},
     "output_type": "execute_result"
    }
   ],
   "source": [
    "attacks_country_temp[attacks_country_temp['Sex'].notnull()].shape[0]"
   ]
  },
  {
   "cell_type": "code",
   "execution_count": 54,
   "metadata": {},
   "outputs": [
    {
     "data": {
      "text/plain": [
       "<AxesSubplot:ylabel='Sex'>"
      ]
     },
     "execution_count": 54,
     "metadata": {},
     "output_type": "execute_result"
    },
    {
     "data": {
      "image/png": "[encoded data removed]",
      "text/plain": [
       "<Figure size 432x288 with 1 Axes>"
      ]
     },
     "metadata": {},
     "output_type": "display_data"
    }
   ],
   "source": [
    "attacks_by_sex = attacks_country_temp['Sex'].value_counts(normalize=True)*100\n",
    "attacks_by_sex.plot.pie(autopct='%1.2f%%')"
   ]
  },
  {
   "cell_type": "markdown",
   "metadata": {},
   "source": [
    "### By age"
   ]
  },
  {
   "cell_type": "code",
   "execution_count": 55,
   "metadata": {},
   "outputs": [
    {
     "data": {
      "text/plain": [
       "<AxesSubplot:>"
      ]
     },
     "execution_count": 55,
     "metadata": {},
     "output_type": "execute_result"
    },
    {
     "data": {
      "image/png": "[encoded data removed]",
      "text/plain": [
       "<Figure size 432x288 with 1 Axes>"
      ]
     },
     "metadata": {
      "needs_background": "light"
     },
     "output_type": "display_data"
    }
   ],
   "source": [
    "attacks_country_temp['Age'].value_counts(bins=5).plot(kind='barh')"
   ]
  },
  {
   "cell_type": "markdown",
   "metadata": {},
   "source": [
    "### By activity"
   ]
  },
  {
   "cell_type": "code",
   "execution_count": 56,
   "metadata": {},
   "outputs": [
    {
     "data": {
      "text/plain": [
       "<AxesSubplot:>"
      ]
     },
     "execution_count": 56,
     "metadata": {},
     "output_type": "execute_result"
    },
    {
     "data": {
      "image/png": "[encoded data removed]",
      "text/plain": [
       "<Figure size 432x288 with 1 Axes>"
      ]
     },
     "metadata": {
      "needs_background": "light"
     },
     "output_type": "display_data"
    }
   ],
   "source": [
    "attacks_country_temp['Activity'].value_counts().head(15).plot(kind='barh')"
   ]
  },
  {
   "cell_type": "code",
   "execution_count": 67,
   "metadata": {},
   "outputs": [
    {
     "name": "stderr",
     "output_type": "stream",
     "text": [
      "/Users/elros/miniconda3/envs/ds/lib/python3.7/site-packages/seaborn/categorical.py:1296: UserWarning: 6.7% of the points cannot be placed; you may want to decrease the size of the markers or use stripplot.\n",
      "  warnings.warn(msg, UserWarning)\n",
      "/Users/elros/miniconda3/envs/ds/lib/python3.7/site-packages/seaborn/categorical.py:1296: UserWarning: 38.5% of the points cannot be placed; you may want to decrease the size of the markers or use stripplot.\n",
      "  warnings.warn(msg, UserWarning)\n",
      "/Users/elros/miniconda3/envs/ds/lib/python3.7/site-packages/seaborn/categorical.py:1296: UserWarning: 19.5% of the points cannot be placed; you may want to decrease the size of the markers or use stripplot.\n",
      "  warnings.warn(msg, UserWarning)\n",
      "/Users/elros/miniconda3/envs/ds/lib/python3.7/site-packages/seaborn/categorical.py:1296: UserWarning: 5.8% of the points cannot be placed; you may want to decrease the size of the markers or use stripplot.\n",
      "  warnings.warn(msg, UserWarning)\n"
     ]
    },
    {
     "data": {
      "text/plain": [
       "<seaborn.axisgrid.FacetGrid at 0x1a1f5625d0>"
      ]
     },
     "execution_count": 67,
     "metadata": {},
     "output_type": "execute_result"
    },
    {
     "data": {
      "image/png": "[encoded data removed]",
      "text/plain": [
       "<Figure size 764.625x360 with 1 Axes>"
      ]
     },
     "metadata": {
      "needs_background": "light"
     },
     "output_type": "display_data"
    }
   ],
   "source": [
    "activities = attacks_country_temp.loc[~attacks_country_temp['Activity'].isin(['OTHER','SHIPWRECK','PADDLESKIING','MURDER',\n",
    "                                                                              'SEA DISASTER']),['Age','Activity','Sex']].copy()\n",
    "sns.catplot(x=\"Activity\", y=\"Age\", hue=\"Sex\", kind=\"swarm\", height=5,aspect=2,s=3, data=activities).set_xticklabels(rotation=60)"
   ]
  },
  {
   "cell_type": "markdown",
   "metadata": {},
   "source": [
    "### Type"
   ]
  },
  {
   "cell_type": "code",
   "execution_count": 57,
   "metadata": {},
   "outputs": [
    {
     "data": {
      "text/plain": [
       "<AxesSubplot:ylabel='Type'>"
      ]
     },
     "execution_count": 57,
     "metadata": {},
     "output_type": "execute_result"
    },
    {
     "data": {
      "image/png": "[encoded data removed]",
      "text/plain": [
       "<Figure size 432x288 with 1 Axes>"
      ]
     },
     "metadata": {},
     "output_type": "display_data"
    }
   ],
   "source": [
    "attacks_country_temp['Type'].value_counts().head(2).plot.pie(autopct='%1.2f%%')"
   ]
  },
  {
   "cell_type": "markdown",
   "metadata": {},
   "source": [
    "### By fatality"
   ]
  },
  {
   "cell_type": "code",
   "execution_count": 58,
   "metadata": {},
   "outputs": [
    {
     "data": {
      "text/plain": [
       "5690"
      ]
     },
     "execution_count": 58,
     "metadata": {},
     "output_type": "execute_result"
    }
   ],
   "source": [
    "attacks_country_temp[attacks_country_temp['Fatal'].notnull()].shape[0]"
   ]
  },
  {
   "cell_type": "code",
   "execution_count": 59,
   "metadata": {},
   "outputs": [
    {
     "data": {
      "text/plain": [
       "<AxesSubplot:ylabel='Fatal'>"
      ]
     },
     "execution_count": 59,
     "metadata": {},
     "output_type": "execute_result"
    },
    {
     "data": {
      "image/png": "[encoded data removed]",
      "text/plain": [
       "<Figure size 432x288 with 1 Axes>"
      ]
     },
     "metadata": {},
     "output_type": "display_data"
    }
   ],
   "source": [
    "attacks_by_sex = attacks_country_temp['Fatal'].value_counts(normalize=True)*100\n",
    "attacks_by_sex.plot.pie(autopct='%1.2f%%')"
   ]
  },
  {
   "cell_type": "markdown",
   "metadata": {},
   "source": [
    "### By species"
   ]
  },
  {
   "cell_type": "markdown",
   "metadata": {},
   "source": [
    "#### Fatality"
   ]
  },
  {
   "cell_type": "code",
   "execution_count": 60,
   "metadata": {},
   "outputs": [],
   "source": [
    "fatality_by_species = attacks_country_temp[attacks_country_temp['Species'] != ''].groupby(['Species'],as_index=False).agg(Fatal = ('Fatal','sum'),Total_attacks = ('Species','count')).sort_values('Total_attacks',ascending=False)\n",
    "fatality_by_species['Non_fatal'] = fatality_by_species['Total_attacks'] - fatality_by_species['Fatal']\n",
    "fatality_by_species.drop(columns=['Total_attacks'],inplace=True)"
   ]
  },
  {
   "cell_type": "code",
   "execution_count": 61,
   "metadata": {},
   "outputs": [
    {
     "data": {
      "text/plain": [
       "<AxesSubplot:xlabel='Species'>"
      ]
     },
     "execution_count": 61,
     "metadata": {},
     "output_type": "execute_result"
    },
    {
     "data": {
      "image/png": "[encoded data removed]",
      "text/plain": [
       "<Figure size 1080x576 with 1 Axes>"
      ]
     },
     "metadata": {
      "needs_background": "light"
     },
     "output_type": "display_data"
    }
   ],
   "source": [
    "fatality_by_species.head(20).plot(kind='bar',x='Species',stacked=True,figsize=(15,8))"
   ]
  },
  {
   "cell_type": "markdown",
   "metadata": {},
   "source": [
    "#### White sharks attacks by year"
   ]
  },
  {
   "cell_type": "code",
   "execution_count": 62,
   "metadata": {
    "scrolled": true
   },
   "outputs": [
    {
     "data": {
      "text/plain": [
       "<AxesSubplot:xlabel='Year'>"
      ]
     },
     "execution_count": 62,
     "metadata": {},
     "output_type": "execute_result"
    },
    {
     "data": {
      "image/png": "[encoded data removed]",
      "text/plain": [
       "<Figure size 1080x576 with 1 Axes>"
      ]
     },
     "metadata": {
      "needs_background": "light"
     },
     "output_type": "display_data"
    }
   ],
   "source": [
    "white_shark_attacks = attacks_country_temp[attacks_country_temp['Species'] == 'WHITE SHARK'].groupby(['Year'], as_index=False).agg(White_shark_attacks = ('Species','count')).sort_values(by='Year',ascending=False)\n",
    "total_attacks = attacks_country_temp.groupby(['Year'], as_index=False).agg(Total_shark_attacks = ('Species','count')).sort_values(by='Year',ascending=False)\n",
    "ws_total_attacks = pd.merge(total_attacks,white_shark_attacks,on=['Year'],how='left')\n",
    "ws_total_attacks.head(30).plot(kind='area',x='Year',stacked=False,grid=True,figsize=(15,8))"
   ]
  }
 ],
 "metadata": {
  "hide_input": false,
  "kernelspec": {
   "display_name": "Python 3",
   "language": "python",
   "name": "python3"
  },
  "language_info": {
   "codemirror_mode": {
    "name": "ipython",
    "version": 3
   },
   "file_extension": ".py",
   "mimetype": "text/x-python",
   "name": "python",
   "nbconvert_exporter": "python",
   "pygments_lexer": "ipython3",
   "version": "3.7.7"
  },
  "toc": {
   "base_numbering": 1,
   "nav_menu": {},
   "number_sections": true,
   "sideBar": true,
   "skip_h1_title": false,
   "title_cell": "Table of Contents",
   "title_sidebar": "Contents",
   "toc_cell": false,
   "toc_position": {
    "height": "calc(100% - 180px)",
    "left": "10px",
    "top": "150px",
    "width": "356px"
   },
   "toc_section_display": true,
   "toc_window_display": true
  },
  "varInspector": {
   "cols": {
    "lenName": 16,
    "lenType": 16,
    "lenVar": 40
   },
   "kernels_config": {
    "python": {
     "delete_cmd_postfix": "",
     "delete_cmd_prefix": "del ",
     "library": "var_list.py",
     "varRefreshCmd": "print(var_dic_list())"
    },
    "r": {
     "delete_cmd_postfix": ") ",
     "delete_cmd_prefix": "rm(",
     "library": "var_list.r",
     "varRefreshCmd": "cat(var_dic_list()) "
    }
   },
   "types_to_exclude": [
    "module",
    "function",
    "builtin_function_or_method",
    "instance",
    "_Feature"
   ],
   "window_display": false
  }
 },
 "nbformat": 4,
 "nbformat_minor": 4
}
